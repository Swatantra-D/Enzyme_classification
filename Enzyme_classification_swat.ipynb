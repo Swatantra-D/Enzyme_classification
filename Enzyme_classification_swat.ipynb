{
 "cells": [
  {
   "cell_type": "markdown",
   "metadata": {},
   "source": [
    "# Classify Enzymes"
   ]
  },
  {
   "cell_type": "markdown",
   "metadata": {},
   "source": [
    "### Import Libraries"
   ]
  },
  {
   "cell_type": "code",
   "execution_count": 1,
   "metadata": {},
   "outputs": [],
   "source": [
    "# Import libraries\n",
    "import os\n",
    "import time\n",
    "import string\n",
    "import sklearn\n",
    "import numpy as np\n",
    "import pandas as pd\n",
    "import tensorflow as tf\n",
    "import matplotlib.pyplot as plt\n",
    "from sklearn.metrics import precision_score, recall_score, f1_score, accuracy_score\n",
    "from sklearn.preprocessing import OneHotEncoder\n",
    "from sklearn.ensemble import RandomForestClassifier\n",
    "from sklearn.model_selection import train_test_split\n",
    "from sklearn.inspection import permutation_importance\n",
    "from sklearn.feature_selection import SelectFromModel"
   ]
  },
  {
   "cell_type": "markdown",
   "metadata": {},
   "source": [
    "### Import Data from filepath; omit the first column"
   ]
  },
  {
   "cell_type": "code",
   "execution_count": 3,
   "metadata": {},
   "outputs": [],
   "source": [
    "#### Import data ####\n",
    "\n",
    "##Define filepaths\n",
    "filepath = r\"C:/Users/Swata/OneDrive/Documents/Final_data/\"\n",
    "\n",
    "hydrolases_p = r\"C:\\Users\\Swata\\OneDrive\\Documents\\Final_data\\Hydrolases.csv\"\n",
    "isomerases_p = r\"C:\\Users\\Swata\\OneDrive\\Documents\\Final_data\\Isomerases.csv\"\n",
    "ligases_p = r\"C:\\Users\\Swata\\OneDrive\\Documents\\Final_data\\Ligases.csv\"\n",
    "oxidoreductases_p = r\"C:\\Users\\Swata\\OneDrive\\Documents\\Final_data\\Oxidoreductases.csv\"\n",
    "lyases_p = r\"C:\\Users\\Swata\\OneDrive\\Documents\\Final_data\\Lyases.csv\"\n",
    "translocases_p = r\"C:\\Users\\Swata\\OneDrive\\Documents\\Final_data\\Translocases.csv\"\n",
    "transferases_p = r\"C:\\Users\\Swata\\OneDrive\\Documents\\Final_data\\Transferases.csv\"\n",
    "\n",
    "## Load data and drop the first row containing the row numbers\n",
    "oxidoreductases = pd.read_csv(oxidoreductases_p).drop('Unnamed: 0',axis=1)\n",
    "transferases = pd.read_csv(transferases_p).drop('Unnamed: 0',axis=1)\n",
    "hydrolases = pd.read_csv(hydrolases_p).drop('Unnamed: 0',axis=1)\n",
    "lyases = pd.read_csv(lyases_p).drop('Unnamed: 0',axis=1)\n",
    "isomerases = pd.read_csv(isomerases_p).drop('Unnamed: 0',axis=1)\n",
    "ligases = pd.read_csv(ligases_p).drop('Unnamed: 0',axis=1)\n",
    "translocases = pd.read_csv(translocases_p).drop('Unnamed: 0',axis=1)\n",
    "classes = ['oxidoreductases', 'transferases', 'hydrolases', 'lyases', 'isomerases', 'ligases', 'translocases']"
   ]
  },
  {
   "cell_type": "code",
   "execution_count": 4,
   "metadata": {},
   "outputs": [
    {
     "data": {
      "text/plain": [
       "'transferases'"
      ]
     },
     "execution_count": 4,
     "metadata": {},
     "output_type": "execute_result"
    }
   ],
   "source": []
  },
  {
   "cell_type": "markdown",
   "metadata": {},
   "source": [
    "### Plot the amount of instnces per class"
   ]
  },
  {
   "cell_type": "code",
   "execution_count": 4,
   "metadata": {},
   "outputs": [
    {
     "name": "stdout",
     "output_type": "stream",
     "text": [
      "21169 56357 37912 14304 8772 16516 7295\n",
      "['oxidoreductases', 'transferases', 'hydrolases', 'lyases', 'isomerases', 'ligases', 'translocases']\n"
     ]
    },
    {
     "data": {
      "image/png": "[encoded data removed]",
      "text/plain": [
       "<Figure size 432x288 with 1 Axes>"
      ]
     },
     "metadata": {
      "needs_background": "light"
     },
     "output_type": "display_data"
    }
   ],
   "source": [
    "print(\n",
    "oxidoreductases.shape[0],\n",
    "transferases.shape[0],\n",
    "hydrolases.shape[0],\n",
    "lyases.shape[0],\n",
    "isomerases.shape[0],\n",
    "ligases.shape[0],\n",
    "translocases.shape[0]\n",
    ") # print the number of instance per class\n",
    "enzymes_instances = [oxidoreductases.shape[0],\n",
    "transferases.shape[0],\n",
    "hydrolases.shape[0],\n",
    "lyases.shape[0],\n",
    "isomerases.shape[0],\n",
    "ligases.shape[0],\n",
    "translocases.shape[0]]\n",
    "\n",
    "enzyme_names = ['oxidoreductases',\n",
    "'transferases',\n",
    "'hydrolases',\n",
    "'lyases',\n",
    "'isomerases',\n",
    "'ligases',\n",
    "'translocases']\n",
    "plt.bar(range(7),height=enzymes_instances)\n",
    "print(enzyme_names)"
   ]
  },
  {
   "cell_type": "code",
   "execution_count": 96,
   "metadata": {},
   "outputs": [],
   "source": []
  },
  {
   "cell_type": "markdown",
   "metadata": {},
   "source": [
    "### Add labels and concatenate all data in a single dataframe"
   ]
  },
  {
   "cell_type": "code",
   "execution_count": 6,
   "metadata": {},
   "outputs": [],
   "source": [
    "# Add labels:\n",
    "oxidoreductases[\"label\"] = [\"oxidoreductases\" for i in range(len(oxidoreductases))]\n",
    "transferases[\"label\"] = [\"transferases\" for i in range(len(transferases))]\n",
    "hydrolases[\"label\"] = [\"hydrolases\" for i in range(len(hydrolases))]\n",
    "lyases[\"label\"] = [\"lyases\" for i in range(len(lyases))]\n",
    "isomerases[\"label\"] = [\"isomerases\" for i in range(len(isomerases))]\n",
    "ligases[\"label\"] = [\"ligases\" for i in range(len(ligases))]\n",
    "translocases[\"label\"] = [\"translocases\" for i in range(len(translocases))]\n",
    "\n",
    "# Concat all the data\n",
    "data = pd.concat([oxidoreductases,transferases,hydrolases,lyases,isomerases,ligases,translocases],axis=0)\n",
    "# data = pd.concat([oxidoreductases,lyases,isomerases,ligases,translocases],axis=0)\n",
    "# data2 = pd.concat([transferases,hydrolases],axis=0)"
   ]
  },
  {
   "cell_type": "code",
   "execution_count": 98,
   "metadata": {},
   "outputs": [],
   "source": [
    "trans1,trans2 = train_test_split(transferases,train_size=0.4)\n",
    "hyd1,hyd2 = train_test_split(hydrolases,train_size=0.55)\n",
    "data = pd.concat([oxidoreductases,trans1,hyd1,lyases,isomerases,ligases,translocases],axis=0)"
   ]
  },
  {
   "cell_type": "markdown",
   "metadata": {},
   "source": [
    "### Create the feature and labels matrices"
   ]
  },
  {
   "cell_type": "markdown",
   "metadata": {},
   "source": [
    "### Train a random-forest model to select features"
   ]
  },
  {
   "cell_type": "code",
   "execution_count": 7,
   "metadata": {},
   "outputs": [],
   "source": [
    "rf_x = data.iloc[:,:106]\n",
    "rf_y = data.iloc[:,106:]  "
   ]
  },
  {
   "cell_type": "code",
   "execution_count": null,
   "metadata": {},
   "outputs": [],
   "source": []
  },
  {
   "cell_type": "code",
   "execution_count": 8,
   "metadata": {},
   "outputs": [],
   "source": [
    "X_train, X_test, y_train, y_test = train_test_split(rf_x, rf_y, test_size=0.05)\n",
    "y_train = np.ravel(y_train)\n",
    "y_test = np.ravel(y_test)\n",
    "model = RandomForestClassifier(n_estimators=150, criterion='gini', max_depth=None, min_samples_split=2,\n",
    "                               min_samples_leaf=1, min_weight_fraction_leaf=0.0, max_features='sqrt', \n",
    "                               max_leaf_nodes=None, min_impurity_decrease=0.0, bootstrap=True, oob_score=True, \n",
    "                               n_jobs=None, random_state=2022, verbose=1, warm_start=False, class_weight=None,\n",
    "                               ccp_alpha=0.0, max_samples=None)"
   ]
  },
  {
   "cell_type": "code",
   "execution_count": 7,
   "metadata": {},
   "outputs": [
    {
     "name": "stderr",
     "output_type": "stream",
     "text": [
      "[Parallel(n_jobs=1)]: Using backend SequentialBackend with 1 concurrent workers.\n",
      "[Parallel(n_jobs=1)]: Done 150 out of 150 | elapsed:  9.5min finished\n"
     ]
    },
    {
     "data": {
      "text/plain": [
       "RandomForestClassifier(max_features='sqrt', n_estimators=150, oob_score=True,\n",
       "                       random_state=2022, verbose=1)"
      ]
     },
     "execution_count": 7,
     "metadata": {},
     "output_type": "execute_result"
    }
   ],
   "source": [
    "model.fit(X_train,y_train)"
   ]
  },
  {
   "cell_type": "code",
   "execution_count": 8,
   "metadata": {},
   "outputs": [
    {
     "data": {
      "text/plain": [
       "array([2.03350329e-02, 1.91455502e-02, 1.16350013e-02, 1.21615848e-02,\n",
       "       1.36021664e-02, 1.13157080e-02, 1.24874622e-02, 1.24063818e-02,\n",
       "       1.25054611e-02, 1.07404755e-02, 8.51413560e-03, 9.97709710e-03,\n",
       "       9.96071496e-03, 0.00000000e+00, 0.00000000e+00, 0.00000000e+00,\n",
       "       8.33926283e-03, 1.33360244e-02, 1.33875884e-02, 8.10066201e-03,\n",
       "       9.92824699e-03, 9.89683257e-03, 9.18230944e-03, 1.06899341e-02,\n",
       "       1.06787326e-02, 8.96850829e-03, 1.20859588e-02, 1.20499069e-02,\n",
       "       1.17810385e-02, 1.37898237e-02, 1.35422102e-02, 8.21180719e-03,\n",
       "       1.26758957e-02, 1.27627362e-02, 9.14914469e-03, 1.06528401e-02,\n",
       "       1.05164530e-02, 0.00000000e+00, 0.00000000e+00, 0.00000000e+00,\n",
       "       7.72562117e-03, 9.48913832e-03, 9.58268672e-03, 1.14510710e-02,\n",
       "       1.25070705e-02, 1.24304280e-02, 8.12377517e-03, 1.16723997e-02,\n",
       "       1.16727109e-02, 7.83648621e-03, 1.02695538e-02, 1.02109244e-02,\n",
       "       9.81373110e-07, 5.72622950e-07, 3.96554619e-07, 9.46576959e-03,\n",
       "       1.29775174e-02, 1.27966611e-02, 7.91277790e-03, 9.97836120e-03,\n",
       "       9.90110821e-03, 9.27327457e-03, 1.12587764e-02, 1.12823991e-02,\n",
       "       9.60415197e-03, 1.24055106e-02, 1.21237350e-02, 7.84492853e-03,\n",
       "       9.71468609e-03, 9.67353610e-03, 5.72744902e-05, 4.85757656e-05,\n",
       "       4.86888334e-05, 8.96312049e-03, 1.01393859e-02, 1.00047893e-02,\n",
       "       6.47690329e-03, 1.19862261e-02, 1.20293114e-02, 4.68715465e-05,\n",
       "       5.56147230e-05, 5.10818638e-05, 8.02413634e-03, 1.14382438e-02,\n",
       "       1.14364108e-02, 0.00000000e+00, 0.00000000e+00, 0.00000000e+00,\n",
       "       1.08076372e-02, 1.09777274e-02, 1.21342623e-02, 1.17796952e-02,\n",
       "       1.45796939e-02, 1.62248706e-02, 1.16454370e-02, 1.45422643e-02,\n",
       "       1.47218818e-02, 1.28180810e-02, 1.34548360e-02, 1.27448531e-02,\n",
       "       1.33838794e-02, 1.48188579e-02, 1.07925987e-02, 1.45272903e-02,\n",
       "       1.17520452e-02, 1.37877551e-02])"
      ]
     },
     "execution_count": 8,
     "metadata": {},
     "output_type": "execute_result"
    }
   ],
   "source": [
    "imp_features = model.feature_importances_ \n",
    "imp_features"
   ]
  },
  {
   "cell_type": "code",
   "execution_count": 11,
   "metadata": {},
   "outputs": [
    {
     "data": {
      "text/html": [
       "<div>\n",
       "<style scoped>\n",
       "    .dataframe tbody tr th:only-of-type {\n",
       "        vertical-align: middle;\n",
       "    }\n",
       "\n",
       "    .dataframe tbody tr th {\n",
       "        vertical-align: top;\n",
       "    }\n",
       "\n",
       "    .dataframe thead th {\n",
       "        text-align: right;\n",
       "    }\n",
       "</style>\n",
       "<table border=\"1\" class=\"dataframe\">\n",
       "  <thead>\n",
       "    <tr style=\"text-align: right;\">\n",
       "      <th></th>\n",
       "      <th>'mol_w'</th>\n",
       "      <th>'Residue'</th>\n",
       "      <th>'avg_res_w'</th>\n",
       "      <th>'charge'</th>\n",
       "      <th>'Iso_e_point'</th>\n",
       "      <th>'Mol_ext_coef'</th>\n",
       "      <th>'Mol_ext_coef_cys'</th>\n",
       "      <th>'ext_coef_mg'</th>\n",
       "      <th>'ext_coef_mg_cys'</th>\n",
       "      <th>'Imp_express_inclu_bodies'</th>\n",
       "      <th>...</th>\n",
       "      <th>'non-polar'</th>\n",
       "      <th>'non-polar_mol'</th>\n",
       "      <th>'polar'</th>\n",
       "      <th>polar_mol'</th>\n",
       "      <th>'charged'</th>\n",
       "      <th>'charged_mol'</th>\n",
       "      <th>'basic'</th>\n",
       "      <th>'basic_mol'</th>\n",
       "      <th>'acidic'</th>\n",
       "      <th>'acidic_mol'</th>\n",
       "    </tr>\n",
       "  </thead>\n",
       "  <tbody>\n",
       "  </tbody>\n",
       "</table>\n",
       "<p>0 rows × 88 columns</p>\n",
       "</div>"
      ],
      "text/plain": [
       "Empty DataFrame\n",
       "Columns: ['mol_w',  'Residue',  'avg_res_w',  'charge',  'Iso_e_point', 'Mol_ext_coef',  'Mol_ext_coef_cys',  'ext_coef_mg',  'ext_coef_mg_cys', 'Imp_express_inclu_bodies',  'Anum',  'Amole%',  'Adhfs',  'Cnum',  'Cmole%', 'Cdhfs',  'Dnum',  'Dmole%',  'Ddhfs',  'Enum',  'Emole%',  'Edhfs',  'Fnum', 'Fmole%',  'Fdhfs',  'Gnum',  'Gmole%',  'Gdhfs',  'Hnum',  'Hmole%',  'Hdhfs', 'Inum',  'Imole%',  'Idhfs',  'Knum',  'Kmole%',  'Kdhfs',  'Lnum',  'Lmole%', 'Ldhfs',  'Mnum',  'Mmole%',  'Mdhfs',  'Nnum',  'Nmole%',  'Ndhfs',  'Pnum', 'Pmole%',  'Pdhfs',  'Qnum',  'Qmole%',  'Qdhfs',  'Rnum',  'Rmole%',  'Rdhfs', 'Snum',  'Smole%',  'Sdhfs',  'Tnum',  'Tmole%',  'Tdhfs',  'Vnum',  'Vmole%', 'Vdhfs',  'Wnum',  'Wmole%',  'Wdhfs',  'Ynum',  'Ymole%',  'Ydhfs',  'tiny', 'tiny_mol',  'small',  'small_mol',  'aliphatic',  'aliphatic_mol', 'aromatic',  'aromatic_mol',  'non-polar',  'non-polar_mol',  'polar', polar_mol',  'charged',  'charged_mol',  'basic',  'basic_mol',  'acidic', 'acidic_mol']\n",
       "Index: []\n",
       "\n",
       "[0 rows x 88 columns]"
      ]
     },
     "execution_count": 11,
     "metadata": {},
     "output_type": "execute_result"
    }
   ],
   "source": []
  },
  {
   "cell_type": "code",
   "execution_count": 9,
   "metadata": {},
   "outputs": [
    {
     "data": {
      "text/plain": [
       "array([0.00000000e+00, 0.00000000e+00, 0.00000000e+00, 0.00000000e+00,\n",
       "       0.00000000e+00, 0.00000000e+00, 0.00000000e+00, 0.00000000e+00,\n",
       "       0.00000000e+00, 3.96554619e-07, 5.72622950e-07, 9.81373110e-07,\n",
       "       4.68715465e-05, 4.85757656e-05, 4.86888334e-05, 5.10818638e-05,\n",
       "       5.56147230e-05, 5.72744902e-05, 6.47690329e-03, 7.72562117e-03,\n",
       "       7.83648621e-03, 7.84492853e-03, 7.91277790e-03, 8.02413634e-03,\n",
       "       8.10066201e-03, 8.12377517e-03, 8.21180719e-03, 8.33926283e-03,\n",
       "       8.51413560e-03, 8.96312049e-03, 8.96850829e-03, 9.14914469e-03,\n",
       "       9.18230944e-03, 9.27327457e-03, 9.46576959e-03, 9.48913832e-03,\n",
       "       9.58268672e-03, 9.60415197e-03, 9.67353610e-03, 9.71468609e-03,\n",
       "       9.89683257e-03, 9.90110821e-03, 9.92824699e-03, 9.96071496e-03,\n",
       "       9.97709710e-03, 9.97836120e-03, 1.00047893e-02, 1.01393859e-02,\n",
       "       1.02109244e-02, 1.02695538e-02, 1.05164530e-02, 1.06528401e-02,\n",
       "       1.06787326e-02, 1.06899341e-02, 1.07404755e-02, 1.07925987e-02,\n",
       "       1.08076372e-02, 1.09777274e-02, 1.12587764e-02, 1.12823991e-02,\n",
       "       1.13157080e-02, 1.14364108e-02, 1.14382438e-02, 1.14510710e-02,\n",
       "       1.16350013e-02, 1.16454370e-02, 1.16723997e-02, 1.16727109e-02,\n",
       "       1.17520452e-02, 1.17796952e-02, 1.17810385e-02, 1.19862261e-02,\n",
       "       1.20293114e-02, 1.20499069e-02, 1.20859588e-02, 1.21237350e-02,\n",
       "       1.21342623e-02, 1.21615848e-02, 1.24055106e-02, 1.24063818e-02,\n",
       "       1.24304280e-02, 1.24874622e-02, 1.25054611e-02, 1.25070705e-02,\n",
       "       1.26758957e-02, 1.27448531e-02, 1.27627362e-02, 1.27966611e-02,\n",
       "       1.28180810e-02, 1.29775174e-02, 1.33360244e-02, 1.33838794e-02,\n",
       "       1.33875884e-02, 1.34548360e-02, 1.35422102e-02, 1.36021664e-02,\n",
       "       1.37877551e-02, 1.37898237e-02, 1.45272903e-02, 1.45422643e-02,\n",
       "       1.45796939e-02, 1.47218818e-02, 1.48188579e-02, 1.62248706e-02,\n",
       "       1.91455502e-02, 2.03350329e-02])"
      ]
     },
     "execution_count": 9,
     "metadata": {},
     "output_type": "execute_result"
    }
   ],
   "source": [
    "sorted_idx = imp_features.argsort()\n",
    "imp_features[sorted_idx]"
   ]
  },
  {
   "cell_type": "code",
   "execution_count": 10,
   "metadata": {},
   "outputs": [
    {
     "data": {
      "text/plain": [
       "<matplotlib.collections.PathCollection at 0x1e381028ee0>"
      ]
     },
     "execution_count": 10,
     "metadata": {},
     "output_type": "execute_result"
    },
    {
     "data": {
      "image/png": "[encoded data removed]",
      "text/plain": [
       "<Figure size 432x288 with 1 Axes>"
      ]
     },
     "metadata": {
      "needs_background": "light"
     },
     "output_type": "display_data"
    }
   ],
   "source": [
    "plt.scatter(range(len(imp_features)),imp_features[sorted_idx])"
   ]
  },
  {
   "cell_type": "code",
   "execution_count": 11,
   "metadata": {},
   "outputs": [
    {
     "data": {
      "text/plain": [
       "(array([ 37,  87,  86,  85,  15,  39,  38,  13,  14,  54,  53,  52,  79,\n",
       "         71,  72,  81,  80,  70,  76,  40,  49,  67,  58,  82,  19,  46,\n",
       "         31,  16,  10,  73,  25,  34,  22,  61,  55,  41,  42,  64,  69,\n",
       "         68,  21,  60,  20,  12,  11,  59,  75,  74,  51,  50,  36,  35,\n",
       "         24,  23,   9, 102,  88,  89,  62,  63,   5,  84,  83,  43,   2,\n",
       "         94,  47,  48, 104,  91,  28,  77,  78,  27,  26,  66,  90,   3,\n",
       "         65,   7,  45,   6,   8,  44,  32,  99,  33,  57,  97,  56,  17,\n",
       "        100,  18,  98,  30,   4, 105,  29, 103,  95,  92,  96, 101,  93,\n",
       "          1,   0], dtype=int64),)"
      ]
     },
     "execution_count": 11,
     "metadata": {},
     "output_type": "execute_result"
    }
   ],
   "source": [
    "imp_features[sorted_idx] > 0.005    ## 0.005 visual threshold\n",
    "sorted_idx,"
   ]
  },
  {
   "cell_type": "code",
   "execution_count": 12,
   "metadata": {},
   "outputs": [
    {
     "data": {
      "text/plain": [
       "array([  0,   1,   2,   3,   4,   5,   6,   7,   8,   9,  10,  11,  12,\n",
       "        16,  17,  18,  19,  20,  21,  22,  23,  24,  25,  26,  27,  28,\n",
       "        29,  30,  31,  32,  33,  34,  35,  36,  40,  41,  42,  43,  44,\n",
       "        45,  46,  47,  48,  49,  50,  51,  55,  56,  57,  58,  59,  60,\n",
       "        61,  62,  63,  64,  65,  66,  67,  68,  69,  73,  74,  75,  76,\n",
       "        77,  78,  82,  83,  84,  88,  89,  90,  91,  92,  93,  94,  95,\n",
       "        96,  97,  98,  99, 100, 101, 102, 103, 104, 105], dtype=int64)"
      ]
     },
     "execution_count": 12,
     "metadata": {},
     "output_type": "execute_result"
    }
   ],
   "source": [
    "sorted_idx_trim = sorted_idx[18:]\n",
    "sorted_idx_trim.sort()\n",
    "sorted_idx_trim"
   ]
  },
  {
   "cell_type": "code",
   "execution_count": 13,
   "metadata": {},
   "outputs": [
    {
     "data": {
      "text/plain": [
       "Index(['mol_w', 'Residue', 'avg_res_w', 'charge', 'Iso_e_point',\n",
       "       'Mol_ext_coef', 'Mol_ext_coef_cys', 'ext_coef_mg', 'ext_coef_mg_cys',\n",
       "       'Imp_express_inclu_bodies', 'Anum', 'Amole%', 'Adhfs', 'Cnum', 'Cmole%',\n",
       "       'Cdhfs', 'Dnum', 'Dmole%', 'Ddhfs', 'Enum', 'Emole%', 'Edhfs', 'Fnum',\n",
       "       'Fmole%', 'Fdhfs', 'Gnum', 'Gmole%', 'Gdhfs', 'Hnum', 'Hmole%', 'Hdhfs',\n",
       "       'Inum', 'Imole%', 'Idhfs', 'Knum', 'Kmole%', 'Kdhfs', 'Lnum', 'Lmole%',\n",
       "       'Ldhfs', 'Mnum', 'Mmole%', 'Mdhfs', 'Nnum', 'Nmole%', 'Ndhfs', 'Pnum',\n",
       "       'Pmole%', 'Pdhfs', 'Qnum', 'Qmole%', 'Qdhfs', 'Rnum', 'Rmole%', 'Rdhfs',\n",
       "       'Snum', 'Smole%', 'Sdhfs', 'Tnum', 'Tmole%', 'Tdhfs', 'Vnum', 'Vmole%',\n",
       "       'Vdhfs', 'Wnum', 'Wmole%', 'Wdhfs', 'Ynum', 'Ymole%', 'Ydhfs', 'tiny',\n",
       "       'tiny_mol', 'small', 'small_mol', 'aliphatic', 'aliphatic_mol',\n",
       "       'aromatic', 'aromatic_mol', 'non-polar', 'non-polar_mol', 'polar',\n",
       "       'polar_mol', 'charged', 'charged_mol', 'basic', 'basic_mol', 'acidic',\n",
       "       'acidic_mol'],\n",
       "      dtype='object')"
      ]
     },
     "execution_count": 13,
     "metadata": {},
     "output_type": "execute_result"
    }
   ],
   "source": [
    "selected_features = rf_x.columns[sorted_idx_trim]\n",
    "selected_features"
   ]
  },
  {
   "cell_type": "code",
   "execution_count": 15,
   "metadata": {},
   "outputs": [],
   "source": [
    "selected_features = ['mol_w', 'Residue', 'avg_res_w', 'charge', 'Iso_e_point','Mol_ext_coef', 'Mol_ext_coef_cys', 'ext_coef_mg', 'ext_coef_mg_cys','Imp_express_inclu_bodies', 'Anum', 'Amole%', 'Adhfs', 'Cnum', 'Cmole%','Cdhfs', 'Dnum', 'Dmole%', 'Ddhfs', 'Enum', 'Emole%', 'Edhfs', 'Fnum','Fmole%', 'Fdhfs', 'Gnum', 'Gmole%', 'Gdhfs', 'Hnum', 'Hmole%', 'Hdhfs','Inum', 'Imole%', 'Idhfs', 'Knum', 'Kmole%', 'Kdhfs', 'Lnum', 'Lmole%','Ldhfs', 'Mnum', 'Mmole%', 'Mdhfs', 'Nnum', 'Nmole%', 'Ndhfs', 'Pnum','Pmole%', 'Pdhfs', 'Qnum', 'Qmole%', 'Qdhfs', 'Rnum', 'Rmole%', 'Rdhfs','Snum', 'Smole%', 'Sdhfs', 'Tnum', 'Tmole%', 'Tdhfs', 'Vnum', 'Vmole%','Vdhfs', 'Wnum', 'Wmole%', 'Wdhfs', 'Ynum', 'Ymole%', 'Ydhfs', 'tiny','tiny_mol', 'small', 'small_mol', 'aliphatic', 'aliphatic_mol','aromatic', 'aromatic_mol', 'non-polar', 'non-polar_mol', 'polar','polar_mol', 'charged', 'charged_mol', 'basic', 'basic_mol', 'acidic','acidic_mol']"
   ]
  },
  {
   "cell_type": "code",
   "execution_count": 16,
   "metadata": {},
   "outputs": [],
   "source": [
    "x = data.loc[:,selected_features]\n",
    "y = data.loc[:,[\"label\"]]\n",
    "# x.to_csv(r'C:\\Users\\Swata\\OneDrive\\Documents\\Final_data\\New folder\\sel_features_data.csv')\n",
    "# y.to_csv(r'C:\\Users\\Swata\\OneDrive\\Documents\\Final_data\\New folder\\sel_features_labels.csv')"
   ]
  },
  {
   "cell_type": "markdown",
   "metadata": {},
   "source": [
    "## THE ANN"
   ]
  },
  {
   "cell_type": "markdown",
   "metadata": {},
   "source": [
    "### 1. Create the feature and label matrices and split them into train-test sets"
   ]
  },
  {
   "cell_type": "code",
   "execution_count": 18,
   "metadata": {},
   "outputs": [
    {
     "data": {
      "text/html": [
       "<div>\n",
       "<style scoped>\n",
       "    .dataframe tbody tr th:only-of-type {\n",
       "        vertical-align: middle;\n",
       "    }\n",
       "\n",
       "    .dataframe tbody tr th {\n",
       "        vertical-align: top;\n",
       "    }\n",
       "\n",
       "    .dataframe thead th {\n",
       "        text-align: right;\n",
       "    }\n",
       "</style>\n",
       "<table border=\"1\" class=\"dataframe\">\n",
       "  <thead>\n",
       "    <tr style=\"text-align: right;\">\n",
       "      <th></th>\n",
       "      <th>mol_w</th>\n",
       "      <th>Residue</th>\n",
       "      <th>avg_res_w</th>\n",
       "      <th>charge</th>\n",
       "      <th>Iso_e_point</th>\n",
       "      <th>Mol_ext_coef</th>\n",
       "      <th>Mol_ext_coef_cys</th>\n",
       "      <th>ext_coef_mg</th>\n",
       "      <th>ext_coef_mg_cys</th>\n",
       "      <th>Imp_express_inclu_bodies</th>\n",
       "      <th>...</th>\n",
       "      <th>non-polar_mol</th>\n",
       "      <th>polar</th>\n",
       "      <th>polar_mol</th>\n",
       "      <th>charged</th>\n",
       "      <th>charged_mol</th>\n",
       "      <th>basic</th>\n",
       "      <th>basic_mol</th>\n",
       "      <th>acidic</th>\n",
       "      <th>acidic_mol</th>\n",
       "      <th>label</th>\n",
       "    </tr>\n",
       "  </thead>\n",
       "  <tbody>\n",
       "    <tr>\n",
       "      <th>13516</th>\n",
       "      <td>34912.05</td>\n",
       "      <td>323.0</td>\n",
       "      <td>108.087</td>\n",
       "      <td>-2.5</td>\n",
       "      <td>5.9013</td>\n",
       "      <td>12950.0</td>\n",
       "      <td>13325.0</td>\n",
       "      <td>0.371</td>\n",
       "      <td>0.382</td>\n",
       "      <td>0.732</td>\n",
       "      <td>...</td>\n",
       "      <td>57.276</td>\n",
       "      <td>138.0</td>\n",
       "      <td>42.724</td>\n",
       "      <td>73.0</td>\n",
       "      <td>22.601</td>\n",
       "      <td>37.0</td>\n",
       "      <td>11.455</td>\n",
       "      <td>36.0</td>\n",
       "      <td>11.146</td>\n",
       "      <td>Oxi</td>\n",
       "    </tr>\n",
       "    <tr>\n",
       "      <th>13954</th>\n",
       "      <td>43231.95</td>\n",
       "      <td>405.0</td>\n",
       "      <td>106.746</td>\n",
       "      <td>3.5</td>\n",
       "      <td>6.8154</td>\n",
       "      <td>27850.0</td>\n",
       "      <td>28100.0</td>\n",
       "      <td>0.644</td>\n",
       "      <td>0.650</td>\n",
       "      <td>0.548</td>\n",
       "      <td>...</td>\n",
       "      <td>60.247</td>\n",
       "      <td>161.0</td>\n",
       "      <td>39.753</td>\n",
       "      <td>103.0</td>\n",
       "      <td>25.432</td>\n",
       "      <td>58.0</td>\n",
       "      <td>14.321</td>\n",
       "      <td>45.0</td>\n",
       "      <td>11.111</td>\n",
       "      <td>lys</td>\n",
       "    </tr>\n",
       "    <tr>\n",
       "      <th>3585</th>\n",
       "      <td>59112.27</td>\n",
       "      <td>544.0</td>\n",
       "      <td>108.662</td>\n",
       "      <td>-9.5</td>\n",
       "      <td>5.3848</td>\n",
       "      <td>47790.0</td>\n",
       "      <td>47915.0</td>\n",
       "      <td>0.808</td>\n",
       "      <td>0.811</td>\n",
       "      <td>0.548</td>\n",
       "      <td>...</td>\n",
       "      <td>58.824</td>\n",
       "      <td>224.0</td>\n",
       "      <td>41.176</td>\n",
       "      <td>140.0</td>\n",
       "      <td>25.735</td>\n",
       "      <td>69.0</td>\n",
       "      <td>12.684</td>\n",
       "      <td>71.0</td>\n",
       "      <td>13.051</td>\n",
       "      <td>lig</td>\n",
       "    </tr>\n",
       "    <tr>\n",
       "      <th>6052</th>\n",
       "      <td>37895.53</td>\n",
       "      <td>359.0</td>\n",
       "      <td>105.559</td>\n",
       "      <td>-4.0</td>\n",
       "      <td>5.7957</td>\n",
       "      <td>26930.0</td>\n",
       "      <td>27180.0</td>\n",
       "      <td>0.711</td>\n",
       "      <td>0.717</td>\n",
       "      <td>0.580</td>\n",
       "      <td>...</td>\n",
       "      <td>62.953</td>\n",
       "      <td>133.0</td>\n",
       "      <td>37.047</td>\n",
       "      <td>85.0</td>\n",
       "      <td>23.677</td>\n",
       "      <td>43.0</td>\n",
       "      <td>11.978</td>\n",
       "      <td>42.0</td>\n",
       "      <td>11.699</td>\n",
       "      <td>lys</td>\n",
       "    </tr>\n",
       "    <tr>\n",
       "      <th>5894</th>\n",
       "      <td>19039.08</td>\n",
       "      <td>181.0</td>\n",
       "      <td>105.188</td>\n",
       "      <td>10.5</td>\n",
       "      <td>9.9430</td>\n",
       "      <td>12950.0</td>\n",
       "      <td>13200.0</td>\n",
       "      <td>0.680</td>\n",
       "      <td>0.693</td>\n",
       "      <td>0.895</td>\n",
       "      <td>...</td>\n",
       "      <td>60.773</td>\n",
       "      <td>71.0</td>\n",
       "      <td>39.227</td>\n",
       "      <td>40.0</td>\n",
       "      <td>22.099</td>\n",
       "      <td>26.0</td>\n",
       "      <td>14.365</td>\n",
       "      <td>14.0</td>\n",
       "      <td>7.735</td>\n",
       "      <td>trl</td>\n",
       "    </tr>\n",
       "    <tr>\n",
       "      <th>...</th>\n",
       "      <td>...</td>\n",
       "      <td>...</td>\n",
       "      <td>...</td>\n",
       "      <td>...</td>\n",
       "      <td>...</td>\n",
       "      <td>...</td>\n",
       "      <td>...</td>\n",
       "      <td>...</td>\n",
       "      <td>...</td>\n",
       "      <td>...</td>\n",
       "      <td>...</td>\n",
       "      <td>...</td>\n",
       "      <td>...</td>\n",
       "      <td>...</td>\n",
       "      <td>...</td>\n",
       "      <td>...</td>\n",
       "      <td>...</td>\n",
       "      <td>...</td>\n",
       "      <td>...</td>\n",
       "      <td>...</td>\n",
       "      <td>...</td>\n",
       "    </tr>\n",
       "    <tr>\n",
       "      <th>4122</th>\n",
       "      <td>38214.98</td>\n",
       "      <td>335.0</td>\n",
       "      <td>114.075</td>\n",
       "      <td>20.5</td>\n",
       "      <td>10.0985</td>\n",
       "      <td>79870.0</td>\n",
       "      <td>79995.0</td>\n",
       "      <td>2.090</td>\n",
       "      <td>2.093</td>\n",
       "      <td>0.809</td>\n",
       "      <td>...</td>\n",
       "      <td>59.104</td>\n",
       "      <td>137.0</td>\n",
       "      <td>40.896</td>\n",
       "      <td>84.0</td>\n",
       "      <td>25.075</td>\n",
       "      <td>56.0</td>\n",
       "      <td>16.716</td>\n",
       "      <td>28.0</td>\n",
       "      <td>8.358</td>\n",
       "      <td>Oxi</td>\n",
       "    </tr>\n",
       "    <tr>\n",
       "      <th>5796</th>\n",
       "      <td>37795.37</td>\n",
       "      <td>336.0</td>\n",
       "      <td>112.486</td>\n",
       "      <td>0.0</td>\n",
       "      <td>6.5055</td>\n",
       "      <td>32890.0</td>\n",
       "      <td>33140.0</td>\n",
       "      <td>0.870</td>\n",
       "      <td>0.877</td>\n",
       "      <td>0.551</td>\n",
       "      <td>...</td>\n",
       "      <td>55.655</td>\n",
       "      <td>149.0</td>\n",
       "      <td>44.345</td>\n",
       "      <td>97.0</td>\n",
       "      <td>28.869</td>\n",
       "      <td>50.0</td>\n",
       "      <td>14.881</td>\n",
       "      <td>47.0</td>\n",
       "      <td>13.988</td>\n",
       "      <td>lig</td>\n",
       "    </tr>\n",
       "    <tr>\n",
       "      <th>16240</th>\n",
       "      <td>51975.48</td>\n",
       "      <td>466.0</td>\n",
       "      <td>111.535</td>\n",
       "      <td>-2.0</td>\n",
       "      <td>6.3045</td>\n",
       "      <td>61880.0</td>\n",
       "      <td>62130.0</td>\n",
       "      <td>1.191</td>\n",
       "      <td>1.195</td>\n",
       "      <td>0.593</td>\n",
       "      <td>...</td>\n",
       "      <td>57.725</td>\n",
       "      <td>197.0</td>\n",
       "      <td>42.275</td>\n",
       "      <td>126.0</td>\n",
       "      <td>27.039</td>\n",
       "      <td>66.0</td>\n",
       "      <td>14.163</td>\n",
       "      <td>60.0</td>\n",
       "      <td>12.876</td>\n",
       "      <td>lig</td>\n",
       "    </tr>\n",
       "    <tr>\n",
       "      <th>4810</th>\n",
       "      <td>28951.46</td>\n",
       "      <td>264.0</td>\n",
       "      <td>109.665</td>\n",
       "      <td>-5.5</td>\n",
       "      <td>4.8576</td>\n",
       "      <td>25440.0</td>\n",
       "      <td>25690.0</td>\n",
       "      <td>0.879</td>\n",
       "      <td>0.887</td>\n",
       "      <td>0.512</td>\n",
       "      <td>...</td>\n",
       "      <td>56.818</td>\n",
       "      <td>114.0</td>\n",
       "      <td>43.182</td>\n",
       "      <td>58.0</td>\n",
       "      <td>21.970</td>\n",
       "      <td>27.0</td>\n",
       "      <td>10.227</td>\n",
       "      <td>31.0</td>\n",
       "      <td>11.742</td>\n",
       "      <td>iso</td>\n",
       "    </tr>\n",
       "    <tr>\n",
       "      <th>5675</th>\n",
       "      <td>65700.83</td>\n",
       "      <td>567.0</td>\n",
       "      <td>115.874</td>\n",
       "      <td>-3.5</td>\n",
       "      <td>6.2070</td>\n",
       "      <td>107720.0</td>\n",
       "      <td>107970.0</td>\n",
       "      <td>1.640</td>\n",
       "      <td>1.643</td>\n",
       "      <td>0.582</td>\n",
       "      <td>...</td>\n",
       "      <td>50.441</td>\n",
       "      <td>281.0</td>\n",
       "      <td>49.559</td>\n",
       "      <td>156.0</td>\n",
       "      <td>27.513</td>\n",
       "      <td>81.0</td>\n",
       "      <td>14.286</td>\n",
       "      <td>75.0</td>\n",
       "      <td>13.228</td>\n",
       "      <td>lys</td>\n",
       "    </tr>\n",
       "  </tbody>\n",
       "</table>\n",
       "<p>6806 rows × 107 columns</p>\n",
       "</div>"
      ],
      "text/plain": [
       "          mol_w  Residue  avg_res_w  charge  Iso_e_point  Mol_ext_coef  \\\n",
       "13516  34912.05    323.0    108.087    -2.5       5.9013       12950.0   \n",
       "13954  43231.95    405.0    106.746     3.5       6.8154       27850.0   \n",
       "3585   59112.27    544.0    108.662    -9.5       5.3848       47790.0   \n",
       "6052   37895.53    359.0    105.559    -4.0       5.7957       26930.0   \n",
       "5894   19039.08    181.0    105.188    10.5       9.9430       12950.0   \n",
       "...         ...      ...        ...     ...          ...           ...   \n",
       "4122   38214.98    335.0    114.075    20.5      10.0985       79870.0   \n",
       "5796   37795.37    336.0    112.486     0.0       6.5055       32890.0   \n",
       "16240  51975.48    466.0    111.535    -2.0       6.3045       61880.0   \n",
       "4810   28951.46    264.0    109.665    -5.5       4.8576       25440.0   \n",
       "5675   65700.83    567.0    115.874    -3.5       6.2070      107720.0   \n",
       "\n",
       "       Mol_ext_coef_cys  ext_coef_mg  ext_coef_mg_cys  \\\n",
       "13516           13325.0        0.371            0.382   \n",
       "13954           28100.0        0.644            0.650   \n",
       "3585            47915.0        0.808            0.811   \n",
       "6052            27180.0        0.711            0.717   \n",
       "5894            13200.0        0.680            0.693   \n",
       "...                 ...          ...              ...   \n",
       "4122            79995.0        2.090            2.093   \n",
       "5796            33140.0        0.870            0.877   \n",
       "16240           62130.0        1.191            1.195   \n",
       "4810            25690.0        0.879            0.887   \n",
       "5675           107970.0        1.640            1.643   \n",
       "\n",
       "       Imp_express_inclu_bodies  ...  non-polar_mol  polar  polar_mol  \\\n",
       "13516                     0.732  ...         57.276  138.0     42.724   \n",
       "13954                     0.548  ...         60.247  161.0     39.753   \n",
       "3585                      0.548  ...         58.824  224.0     41.176   \n",
       "6052                      0.580  ...         62.953  133.0     37.047   \n",
       "5894                      0.895  ...         60.773   71.0     39.227   \n",
       "...                         ...  ...            ...    ...        ...   \n",
       "4122                      0.809  ...         59.104  137.0     40.896   \n",
       "5796                      0.551  ...         55.655  149.0     44.345   \n",
       "16240                     0.593  ...         57.725  197.0     42.275   \n",
       "4810                      0.512  ...         56.818  114.0     43.182   \n",
       "5675                      0.582  ...         50.441  281.0     49.559   \n",
       "\n",
       "       charged  charged_mol  basic  basic_mol  acidic  acidic_mol  label  \n",
       "13516     73.0       22.601   37.0     11.455    36.0      11.146    Oxi  \n",
       "13954    103.0       25.432   58.0     14.321    45.0      11.111    lys  \n",
       "3585     140.0       25.735   69.0     12.684    71.0      13.051    lig  \n",
       "6052      85.0       23.677   43.0     11.978    42.0      11.699    lys  \n",
       "5894      40.0       22.099   26.0     14.365    14.0       7.735    trl  \n",
       "...        ...          ...    ...        ...     ...         ...    ...  \n",
       "4122      84.0       25.075   56.0     16.716    28.0       8.358    Oxi  \n",
       "5796      97.0       28.869   50.0     14.881    47.0      13.988    lig  \n",
       "16240    126.0       27.039   66.0     14.163    60.0      12.876    lig  \n",
       "4810      58.0       21.970   27.0     10.227    31.0      11.742    iso  \n",
       "5675     156.0       27.513   81.0     14.286    75.0      13.228    lys  \n",
       "\n",
       "[6806 rows x 107 columns]"
      ]
     },
     "execution_count": 18,
     "metadata": {},
     "output_type": "execute_result"
    }
   ],
   "source": [
    "# train, test = train_test_split(data, test_size=0.10)   # creating a train-test split"
   ]
  },
  {
   "cell_type": "code",
   "execution_count": 38,
   "metadata": {},
   "outputs": [],
   "source": [
    "# x = data.loc[:,selected_features]\n",
    "# y = data.loc[:,[\"label\"]]\n",
    "# y = pd.get_dummies(y)\n",
    "# x_np = x.to_numpy() # the features (88 features)\n",
    "# y_np = y.to_numpy()  # labels\n",
    "# y = pd.get_dummies(y)\n",
    "# x_np = x.to_numpy() # the features (88 features)\n",
    "# y_np = y.to_numpy()  # labels"
   ]
  },
  {
   "cell_type": "markdown",
   "metadata": {},
   "source": [
    "### 2. Normalize the features (mean-normalization) "
   ]
  },
  {
   "cell_type": "code",
   "execution_count": 17,
   "metadata": {},
   "outputs": [],
   "source": [
    "for i in range(x.shape[1]):\n",
    "    tmp_df = x.iloc[:,i]    # temporary array for each col\n",
    "    mean = np.mean(tmp_df) # mean of the col\n",
    "    tmp_df2 = (tmp_df - mean) / len(tmp_df)   # normalixed feature vector\n",
    "    x.iloc[:,i] = tmp_df2  # export"
   ]
  },
  {
   "cell_type": "code",
   "execution_count": 18,
   "metadata": {},
   "outputs": [],
   "source": [
    "# x_train_ind, x_test_ind, y_train_ind, y_test_ind = train_test_split(range(len(data)),range(len(data)) , test_size=0.2)\n",
    "X_train, X_test, y_train, y_test = train_test_split(x, y, test_size=0.2)"
   ]
  },
  {
   "cell_type": "code",
   "execution_count": null,
   "metadata": {},
   "outputs": [],
   "source": [
    "# X_train = \n",
    "# X_test = x_norm[x_test_ind,:]\n",
    "# y_OHE = pd.get_dummies(y)\n",
    "# y_train = y_OHE[y_train_ind].to_numpy()\n",
    "# y_test = y_OHE[y_test_ind]"
   ]
  },
  {
   "cell_type": "markdown",
   "metadata": {},
   "source": []
  },
  {
   "cell_type": "code",
   "execution_count": 19,
   "metadata": {},
   "outputs": [],
   "source": [
    "model = tf.keras.Sequential([\n",
    "    tf.keras.layers.Dense(72),\n",
    "    tf.keras.layers.Dense(400, activation='relu'),\n",
    "    tf.keras.layers.Dense(200, activation='relu'),\n",
    "    tf.keras.layers.Dense(100, activation='relu'),\n",
    "    tf.keras.layers.Dense(50, activation='relu'),\n",
    "    tf.keras.layers.Dense(7,activation='softmax')\n",
    "])\n",
    "model.compile(optimizer='adam',\n",
    "              loss=tf.keras.losses.CategoricalCrossentropy(),\n",
    "              metrics=['accuracy'])\n",
    "\n",
    "model2 = tf.keras.Sequential([\n",
    "    tf.keras.layers.Dense(72),\n",
    "    tf.keras.layers.Dense(400, activation='relu'),\n",
    "    tf.keras.layers.Dense(200, activation='relu'),\n",
    "    tf.keras.layers.Dense(100, activation='relu'),\n",
    "    tf.keras.layers.Dense(50, activation='relu'),\n",
    "    tf.keras.layers.Dense(5,activation='softmax')\n",
    "])\n",
    "model2.compile(optimizer='adam',\n",
    "              loss=tf.keras.losses.CategoricalCrossentropy(),\n",
    "              metrics=['accuracy'])"
   ]
  },
  {
   "cell_type": "code",
   "execution_count": 20,
   "metadata": {},
   "outputs": [
    {
     "name": "stdout",
     "output_type": "stream",
     "text": [
      "Epoch 1/25\n",
      "4059/4059 [==============================] - 80s 18ms/step - loss: 1.6488 - accuracy: 0.3576\n",
      "Epoch 2/25\n",
      "4059/4059 [==============================] - 70s 17ms/step - loss: 1.6175 - accuracy: 0.3651\n",
      "Epoch 3/25\n",
      "4059/4059 [==============================] - 78s 19ms/step - loss: 1.5972 - accuracy: 0.3726\n",
      "Epoch 4/25\n",
      "4059/4059 [==============================] - 69s 17ms/step - loss: 1.5460 - accuracy: 0.3958\n",
      "Epoch 5/25\n",
      "4059/4059 [==============================] - 66s 16ms/step - loss: 1.5166 - accuracy: 0.4088\n",
      "Epoch 6/25\n",
      "4059/4059 [==============================] - 66s 16ms/step - loss: 1.5006 - accuracy: 0.4114\n",
      "Epoch 7/25\n",
      "4059/4059 [==============================] - 55s 13ms/step - loss: 1.4847 - accuracy: 0.4191\n",
      "Epoch 8/25\n",
      "4059/4059 [==============================] - 55s 13ms/step - loss: 1.4641 - accuracy: 0.4270\n",
      "Epoch 9/25\n",
      "4059/4059 [==============================] - 48s 12ms/step - loss: 1.4439 - accuracy: 0.4354\n",
      "Epoch 10/25\n",
      "4059/4059 [==============================] - 45s 11ms/step - loss: 1.4293 - accuracy: 0.4410\n",
      "Epoch 11/25\n",
      "4059/4059 [==============================] - 45s 11ms/step - loss: 1.4164 - accuracy: 0.4460\n",
      "Epoch 12/25\n",
      "4059/4059 [==============================] - 44s 11ms/step - loss: 1.4014 - accuracy: 0.4535\n",
      "Epoch 13/25\n",
      "4059/4059 [==============================] - 43s 11ms/step - loss: 1.3903 - accuracy: 0.4581\n",
      "Epoch 14/25\n",
      "4059/4059 [==============================] - 43s 11ms/step - loss: 1.3805 - accuracy: 0.4630\n",
      "Epoch 15/25\n",
      "4059/4059 [==============================] - 44s 11ms/step - loss: 1.3690 - accuracy: 0.4673\n",
      "Epoch 16/25\n",
      "4059/4059 [==============================] - 42s 10ms/step - loss: 1.3589 - accuracy: 0.4712\n",
      "Epoch 17/25\n",
      "4059/4059 [==============================] - 55s 14ms/step - loss: 1.3483 - accuracy: 0.4759\n",
      "Epoch 18/25\n",
      "4059/4059 [==============================] - 42s 10ms/step - loss: 1.3354 - accuracy: 0.4809\n",
      "Epoch 19/25\n",
      "4059/4059 [==============================] - 42s 10ms/step - loss: 1.3262 - accuracy: 0.4856\n",
      "Epoch 20/25\n",
      "4059/4059 [==============================] - 43s 11ms/step - loss: 1.3164 - accuracy: 0.4902\n",
      "Epoch 21/25\n",
      "4059/4059 [==============================] - 45s 11ms/step - loss: 1.3066 - accuracy: 0.4945\n",
      "Epoch 22/25\n",
      "4059/4059 [==============================] - 44s 11ms/step - loss: 1.2961 - accuracy: 0.4986\n",
      "Epoch 23/25\n",
      "4059/4059 [==============================] - 46s 11ms/step - loss: 1.2852 - accuracy: 0.5030\n",
      "Epoch 24/25\n",
      "4059/4059 [==============================] - 47s 11ms/step - loss: 1.2762 - accuracy: 0.5050\n",
      "Epoch 25/25\n",
      "4059/4059 [==============================] - 47s 11ms/step - loss: 1.2679 - accuracy: 0.5087\n"
     ]
    },
    {
     "data": {
      "text/plain": [
       "<keras.callbacks.History at 0x24337f95d30>"
      ]
     },
     "execution_count": 20,
     "metadata": {},
     "output_type": "execute_result"
    }
   ],
   "source": [
    "model.fit(X_train,pd.get_dummies(y_train),epochs=25)"
   ]
  },
  {
   "cell_type": "code",
   "execution_count": 90,
   "metadata": {},
   "outputs": [
    {
     "name": "stdout",
     "output_type": "stream",
     "text": [
      "426/426 - 2s - loss: 1.1972 - accuracy: 0.5146 - 2s/epoch - 6ms/step\n",
      "\n",
      "Test accuracy: 0.5146194696426392\n"
     ]
    }
   ],
   "source": [
    "test_loss, test_acc = model.evaluate(X_test,  pd.get_dummies(y_test), verbose=2)\n",
    "\n",
    "print('\\nTest accuracy:', test_acc)"
   ]
  },
  {
   "cell_type": "code",
   "execution_count": 40,
   "metadata": {},
   "outputs": [],
   "source": []
  },
  {
   "cell_type": "code",
   "execution_count": 58,
   "metadata": {},
   "outputs": [
    {
     "ename": "SyntaxError",
     "evalue": "invalid syntax (1026420613.py, line 9)",
     "output_type": "error",
     "traceback": [
      "\u001b[1;36m  Input \u001b[1;32mIn [58]\u001b[1;36m\u001b[0m\n\u001b[1;33m    X_test_class =\u001b[0m\n\u001b[1;37m                   ^\u001b[0m\n\u001b[1;31mSyntaxError\u001b[0m\u001b[1;31m:\u001b[0m invalid syntax\n"
     ]
    }
   ],
   "source": [
    "final_result_class = []\n",
    "precision_values = []\n",
    "recall_values = []\n",
    "f1_values = []\n",
    "accuracy_values = []\n",
    "\n",
    "for name in classes:\n",
    "  temp_df = [y[y_test_ind]['label'] == name]\n",
    "  X_test_class = \n",
    "  y_test_OHE = pd.get_dummies(y)\n",
    "  y_train = y_OHE[y_train_ind].to_numpy()\n",
    "  final_result_class.append(name)\n",
    "\n",
    "  predictions = model.predict(X)\n",
    "  Y_pred =[]\n",
    "  for k in range(len(predictions)):\n",
    "    temp_pred = predictions[k]\n",
    "    max_value = max(temp_pred)\n",
    "    result = np.where(temp_pred == max_value)[0][0]\n",
    "    Y_pred.append(result)\n",
    "  print(Y_test)\n",
    "  print(Y_pred)\n",
    "  precision_values.append(precision_score(Y_test, Y_pred, average = 'macro'))\n",
    "  recall_values.append(recall_score(Y_test, Y_pred, average = 'macro'))\n",
    "  f1_values.append(f1_score(Y_test, Y_pred, average = 'macro'))\n",
    "  accuracy_values.append(accuracy_score(Y_test, Y_pred))\n",
    "  #print(X_test)\n",
    "results_df = pd.DataFrame()\n",
    "results_df['Class Name'] = final_result_class\n",
    "results_df['Precision'] = precision_values\n",
    "results_df['Recall'] = recall_values\n",
    "results_df['F1 Score'] = f1_values\n",
    "results_df['Accuracy'] = accuracy_values\n",
    "results_df.to_excel(r'C:\\Users\\Swata\\OneDrive\\Documents\\DATARESULTS_FINAL.xlsx')"
   ]
  },
  {
   "cell_type": "code",
   "execution_count": 41,
   "metadata": {},
   "outputs": [
    {
     "data": {
      "text/plain": [
       "array([False, False, False, False, False,  True, False])"
      ]
     },
     "execution_count": 41,
     "metadata": {},
     "output_type": "execute_result"
    }
   ],
   "source": [
    "(temp_pred == max_value)"
   ]
  },
  {
   "cell_type": "code",
   "execution_count": 76,
   "metadata": {},
   "outputs": [],
   "source": [
    "final_result_class = []\n",
    "precision_values = []\n",
    "recall_values = []\n",
    "f1_values = []\n",
    "accuracy_values = []\n",
    "evaluate_values = []\n",
    "loss_values = []\n",
    "\n",
    "for name in classes:\n",
    "    class_ind = y_test['label'] == name\n",
    "    X = X_test[class_ind]\n",
    "    Y_true = pd.get_dummies(y_test)[class_ind].to_numpy()\n",
    "\n",
    "    # Prediction and accuracy\n",
    "    predictions = model.predict(X)\n",
    "\n",
    "    Y_pred =[]\n",
    "    for k in range(len(predictions)):\n",
    "        temp_pred = predictions[k]\n",
    "        max_value = max(temp_pred)\n",
    "        result = temp_pred == max_value\n",
    "        result2 = []\n",
    "        for i in result:\n",
    "            if i == True:\n",
    "                result2.append(1)\n",
    "            else:\n",
    "                result2.append(0)\n",
    "\n",
    "        Y_pred.append(np.array(result2))\n",
    "\n",
    "    m1 = tf.keras.metrics.Accuracy()\n",
    "    m1.update_state(Y_true,Y_pred)\n",
    "    accuracy_values.append(m1.result().numpy())\n",
    "    \n",
    "    # precision\n",
    "    m2 = tf.keras.metrics.Precision()\n",
    "    m2.update_state(Y_true,Y_pred)\n",
    "    precision_values.append(m2.result().numpy())\n",
    "    # Recall\n",
    "    m3 = tf.keras.metrics.Recall()\n",
    "    m3.update_state(Y_true,Y_pred)\n",
    "    recall_values.append(m3.result().numpy())\n",
    "    #F1 Score \n",
    "    # metric = tf.metrics.F1Score()\n",
    "    # metric.update_state(Y_true, Y_pred)\n",
    "    # f1_values.append(metric.result().numpy())\n",
    "    # f1_values.append(f1_score(Y_true, Y_pred, average = 'macro'))\n",
    "\n",
    "    #evaluate\n",
    "    # test_loss, test_acc = model.evaluate(X,  Y_true, verbose=2)\n",
    "    # evaluate_values.append(test_acc)\n",
    "    # loss_values.append(test_loss)\n",
    "\n",
    "    # precision_values.append(precision_score(Y_true, Y_pred, average = 'macro'))\n",
    "    # recall_values.append(recall_score(Y_true, Y_pred, average = 'macro'))\n",
    "    # f1_values.append(f1_score(Y_true, Y_pred, average = 'macro'))\n",
    "    # accuracy_values.append(accuracy_score(Y_true, Y_pred))\n",
    "\n",
    "results_df = pd.DataFrame()\n",
    "results_df['Class Name'] = final_result_class\n",
    "results_df['Precision'] = precision_values\n",
    "results_df['Recall'] = recall_values\n",
    "# results_df['F1 Score'] = f1_values\n",
    "results_df['Accuracy'] = accuracy_values\n",
    "# results_df['Acc2'] = evaluate_values\n",
    "\n"
   ]
  },
  {
   "cell_type": "code",
   "execution_count": 77,
   "metadata": {},
   "outputs": [],
   "source": [
    "results_df.to_excel(r'C:\\Users\\Swata\\OneDrive\\Documents\\DATARESULTS_FINAL8.xlsx')"
   ]
  },
  {
   "cell_type": "code",
   "execution_count": 68,
   "metadata": {},
   "outputs": [
    {
     "data": {
      "text/plain": [
       "0.5429508"
      ]
     },
     "execution_count": 68,
     "metadata": {},
     "output_type": "execute_result"
    }
   ],
   "source": [
    "m3 = tf.keras.metrics.Recall()\n",
    "m3.update_state(Y_true,Y_pred)\n",
    "m3.result().numpy()"
   ]
  },
  {
   "cell_type": "code",
   "execution_count": 69,
   "metadata": {},
   "outputs": [
    {
     "data": {
      "text/plain": [
       "0.5429508"
      ]
     },
     "execution_count": 69,
     "metadata": {},
     "output_type": "execute_result"
    }
   ],
   "source": [
    "m2 = tf.keras.metrics.Precision()\n",
    "m2.update_state(Y_true,Y_pred)\n",
    "m2.result().numpy()"
   ]
  },
  {
   "cell_type": "code",
   "execution_count": 75,
   "metadata": {},
   "outputs": [
    {
     "name": "stdout",
     "output_type": "stream",
     "text": [
      "0.4166666666666667\n",
      "0.4166666666666667\n"
     ]
    }
   ],
   "source": [
    "print(precision_score( Y_true[0], Y_pred[0], average = 'macro'))\n",
    "print(recall_score( Y_true[0], Y_pred[0], average = 'macro'))"
   ]
  },
  {
   "cell_type": "code",
   "execution_count": null,
   "metadata": {},
   "outputs": [],
   "source": []
  },
  {
   "cell_type": "code",
   "execution_count": null,
   "metadata": {},
   "outputs": [],
   "source": []
  },
  {
   "cell_type": "code",
   "execution_count": null,
   "metadata": {},
   "outputs": [],
   "source": []
  },
  {
   "cell_type": "code",
   "execution_count": null,
   "metadata": {},
   "outputs": [],
   "source": []
  },
  {
   "cell_type": "code",
   "execution_count": null,
   "metadata": {},
   "outputs": [],
   "source": []
  },
  {
   "cell_type": "code",
   "execution_count": null,
   "metadata": {},
   "outputs": [],
   "source": []
  },
  {
   "cell_type": "code",
   "execution_count": 70,
   "metadata": {},
   "outputs": [
    {
     "data": {
      "text/html": [
       "<div>\n",
       "<style scoped>\n",
       "    .dataframe tbody tr th:only-of-type {\n",
       "        vertical-align: middle;\n",
       "    }\n",
       "\n",
       "    .dataframe tbody tr th {\n",
       "        vertical-align: top;\n",
       "    }\n",
       "\n",
       "    .dataframe thead th {\n",
       "        text-align: right;\n",
       "    }\n",
       "</style>\n",
       "<table border=\"1\" class=\"dataframe\">\n",
       "  <thead>\n",
       "    <tr style=\"text-align: right;\">\n",
       "      <th></th>\n",
       "      <th>label_hydrolases</th>\n",
       "      <th>label_isomerases</th>\n",
       "      <th>label_ligases</th>\n",
       "      <th>label_lyases</th>\n",
       "      <th>label_oxidoreductases</th>\n",
       "      <th>label_transferases</th>\n",
       "      <th>label_translocases</th>\n",
       "    </tr>\n",
       "  </thead>\n",
       "  <tbody>\n",
       "    <tr>\n",
       "      <th>10446</th>\n",
       "      <td>0</td>\n",
       "      <td>0</td>\n",
       "      <td>0</td>\n",
       "      <td>0</td>\n",
       "      <td>1</td>\n",
       "      <td>0</td>\n",
       "      <td>0</td>\n",
       "    </tr>\n",
       "    <tr>\n",
       "      <th>12463</th>\n",
       "      <td>0</td>\n",
       "      <td>0</td>\n",
       "      <td>0</td>\n",
       "      <td>0</td>\n",
       "      <td>1</td>\n",
       "      <td>0</td>\n",
       "      <td>0</td>\n",
       "    </tr>\n",
       "    <tr>\n",
       "      <th>12073</th>\n",
       "      <td>0</td>\n",
       "      <td>0</td>\n",
       "      <td>0</td>\n",
       "      <td>0</td>\n",
       "      <td>1</td>\n",
       "      <td>0</td>\n",
       "      <td>0</td>\n",
       "    </tr>\n",
       "    <tr>\n",
       "      <th>17711</th>\n",
       "      <td>0</td>\n",
       "      <td>0</td>\n",
       "      <td>0</td>\n",
       "      <td>0</td>\n",
       "      <td>1</td>\n",
       "      <td>0</td>\n",
       "      <td>0</td>\n",
       "    </tr>\n",
       "    <tr>\n",
       "      <th>3893</th>\n",
       "      <td>0</td>\n",
       "      <td>0</td>\n",
       "      <td>0</td>\n",
       "      <td>0</td>\n",
       "      <td>1</td>\n",
       "      <td>0</td>\n",
       "      <td>0</td>\n",
       "    </tr>\n",
       "    <tr>\n",
       "      <th>...</th>\n",
       "      <td>...</td>\n",
       "      <td>...</td>\n",
       "      <td>...</td>\n",
       "      <td>...</td>\n",
       "      <td>...</td>\n",
       "      <td>...</td>\n",
       "      <td>...</td>\n",
       "    </tr>\n",
       "    <tr>\n",
       "      <th>6662</th>\n",
       "      <td>0</td>\n",
       "      <td>0</td>\n",
       "      <td>0</td>\n",
       "      <td>0</td>\n",
       "      <td>1</td>\n",
       "      <td>0</td>\n",
       "      <td>0</td>\n",
       "    </tr>\n",
       "    <tr>\n",
       "      <th>2956</th>\n",
       "      <td>0</td>\n",
       "      <td>0</td>\n",
       "      <td>0</td>\n",
       "      <td>0</td>\n",
       "      <td>1</td>\n",
       "      <td>0</td>\n",
       "      <td>0</td>\n",
       "    </tr>\n",
       "    <tr>\n",
       "      <th>16082</th>\n",
       "      <td>0</td>\n",
       "      <td>0</td>\n",
       "      <td>0</td>\n",
       "      <td>0</td>\n",
       "      <td>1</td>\n",
       "      <td>0</td>\n",
       "      <td>0</td>\n",
       "    </tr>\n",
       "    <tr>\n",
       "      <th>11428</th>\n",
       "      <td>0</td>\n",
       "      <td>0</td>\n",
       "      <td>0</td>\n",
       "      <td>0</td>\n",
       "      <td>1</td>\n",
       "      <td>0</td>\n",
       "      <td>0</td>\n",
       "    </tr>\n",
       "    <tr>\n",
       "      <th>15771</th>\n",
       "      <td>0</td>\n",
       "      <td>0</td>\n",
       "      <td>0</td>\n",
       "      <td>0</td>\n",
       "      <td>1</td>\n",
       "      <td>0</td>\n",
       "      <td>0</td>\n",
       "    </tr>\n",
       "  </tbody>\n",
       "</table>\n",
       "<p>4179 rows × 7 columns</p>\n",
       "</div>"
      ],
      "text/plain": [
       "       label_hydrolases  label_isomerases  label_ligases  label_lyases  \\\n",
       "10446                 0                 0              0             0   \n",
       "12463                 0                 0              0             0   \n",
       "12073                 0                 0              0             0   \n",
       "17711                 0                 0              0             0   \n",
       "3893                  0                 0              0             0   \n",
       "...                 ...               ...            ...           ...   \n",
       "6662                  0                 0              0             0   \n",
       "2956                  0                 0              0             0   \n",
       "16082                 0                 0              0             0   \n",
       "11428                 0                 0              0             0   \n",
       "15771                 0                 0              0             0   \n",
       "\n",
       "       label_oxidoreductases  label_transferases  label_translocases  \n",
       "10446                      1                   0                   0  \n",
       "12463                      1                   0                   0  \n",
       "12073                      1                   0                   0  \n",
       "17711                      1                   0                   0  \n",
       "3893                       1                   0                   0  \n",
       "...                      ...                 ...                 ...  \n",
       "6662                       1                   0                   0  \n",
       "2956                       1                   0                   0  \n",
       "16082                      1                   0                   0  \n",
       "11428                      1                   0                   0  \n",
       "15771                      1                   0                   0  \n",
       "\n",
       "[4179 rows x 7 columns]"
      ]
     },
     "execution_count": 70,
     "metadata": {},
     "output_type": "execute_result"
    }
   ],
   "source": [
    "class_ind = y_test['label'] == 'oxidoreductases'\n",
    "X = X_test[class_ind]\n",
    "Y_true = pd.get_dummies(y_test)[class_ind]\n",
    "Y_true\n",
    "# # Prediction and accuracy\n",
    "# Y_pred = model.predict(X)\n",
    "# m1 = tf.keras.metrics.Accuracy()\n",
    "# m1.update_state(Y_true,Y_pred)\n",
    "# accuracy_values.append(m1.result().numpy())"
   ]
  },
  {
   "cell_type": "code",
   "execution_count": 55,
   "metadata": {},
   "outputs": [
    {
     "ename": "NameError",
     "evalue": "name 'X' is not defined",
     "output_type": "error",
     "traceback": [
      "\u001b[1;31m---------------------------------------------------------------------------\u001b[0m",
      "\u001b[1;31mNameError\u001b[0m                                 Traceback (most recent call last)",
      "\u001b[1;32mc:\\Users\\Swata\\OneDrive\\Documents\\Python_Scripts\\Enzyme_classification_swat.ipynb Cell 41'\u001b[0m in \u001b[0;36m<cell line: 1>\u001b[1;34m()\u001b[0m\n\u001b[1;32m----> <a href='vscode-notebook-cell:/c%3A/Users/Swata/OneDrive/Documents/Python_Scripts/Enzyme_classification_swat.ipynb#ch0000046?line=0'>1</a>\u001b[0m X\n",
      "\u001b[1;31mNameError\u001b[0m: name 'X' is not defined"
     ]
    }
   ],
   "source": [
    "X"
   ]
  },
  {
   "cell_type": "code",
   "execution_count": 49,
   "metadata": {},
   "outputs": [
    {
     "data": {
      "text/plain": [
       "array([[0., 0., 0., ..., 0., 0., 1.],\n",
       "       [0., 0., 0., ..., 0., 0., 1.],\n",
       "       [0., 0., 0., ..., 0., 0., 1.],\n",
       "       ...,\n",
       "       [0., 0., 0., ..., 0., 0., 1.],\n",
       "       [0., 0., 0., ..., 0., 0., 1.],\n",
       "       [0., 0., 0., ..., 0., 0., 1.]], dtype=float32)"
      ]
     },
     "execution_count": 49,
     "metadata": {},
     "output_type": "execute_result"
    }
   ],
   "source": [
    "model.predict(X_test)"
   ]
  },
  {
   "cell_type": "code",
   "execution_count": 70,
   "metadata": {},
   "outputs": [
    {
     "ename": "NameError",
     "evalue": "name 'predicted' is not defined",
     "output_type": "error",
     "traceback": [
      "\u001b[1;31m---------------------------------------------------------------------------\u001b[0m",
      "\u001b[1;31mNameError\u001b[0m                                 Traceback (most recent call last)",
      "\u001b[1;32mc:\\Users\\Swata\\OneDrive\\Documents\\Python_Scripts\\Enzyme_classification_swat.ipynb Cell 36'\u001b[0m in \u001b[0;36m<cell line: 3>\u001b[1;34m()\u001b[0m\n\u001b[0;32m      <a href='vscode-notebook-cell:/c%3A/Users/Swata/OneDrive/Documents/Python_Scripts/Enzyme_classification_swat.ipynb#ch0000031?line=0'>1</a>\u001b[0m \u001b[39m#Recall\u001b[39;00m\n\u001b[0;32m      <a href='vscode-notebook-cell:/c%3A/Users/Swata/OneDrive/Documents/Python_Scripts/Enzyme_classification_swat.ipynb#ch0000031?line=1'>2</a>\u001b[0m m \u001b[39m=\u001b[39m tf\u001b[39m.\u001b[39mkeras\u001b[39m.\u001b[39mmetrics\u001b[39m.\u001b[39mRecall()\n\u001b[1;32m----> <a href='vscode-notebook-cell:/c%3A/Users/Swata/OneDrive/Documents/Python_Scripts/Enzyme_classification_swat.ipynb#ch0000031?line=2'>3</a>\u001b[0m m\u001b[39m.\u001b[39mupdate_state(y_test,predicted)\n\u001b[0;32m      <a href='vscode-notebook-cell:/c%3A/Users/Swata/OneDrive/Documents/Python_Scripts/Enzyme_classification_swat.ipynb#ch0000031?line=3'>4</a>\u001b[0m m\u001b[39m.\u001b[39mresult()\u001b[39m.\u001b[39mnumpy()\n",
      "\u001b[1;31mNameError\u001b[0m: name 'predicted' is not defined"
     ]
    }
   ],
   "source": [
    "#Recall\n",
    "m = tf.keras.metrics.Recall()\n",
    "m.update_state(y_test,predicted)\n",
    "m.result().numpy()"
   ]
  },
  {
   "cell_type": "code",
   "execution_count": null,
   "metadata": {},
   "outputs": [],
   "source": [
    "#test:0.6979870796203613 train:accuracy: 0.7338   Recall: 0.63106084 Precision 0.7637592"
   ]
  }
 ],
 "metadata": {
  "interpreter": {
   "hash": "6c836c1a78a94e37ce508f376b0acd5829cd20952c149aa2f4a3efae02c3b624"
  },
  "kernelspec": {
   "display_name": "Python 3.9.12 ('base')",
   "language": "python",
   "name": "python3"
  },
  "language_info": {
   "codemirror_mode": {
    "name": "ipython",
    "version": 3
   },
   "file_extension": ".py",
   "mimetype": "text/x-python",
   "name": "python",
   "nbconvert_exporter": "python",
   "pygments_lexer": "ipython3",
   "version": "3.9.12"
  },
  "orig_nbformat": 4
 },
 "nbformat": 4,
 "nbformat_minor": 2
}
