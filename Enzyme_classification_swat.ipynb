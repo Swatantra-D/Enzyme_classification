{
 "cells": [
  {
   "cell_type": "markdown",
   "metadata": {},
   "source": [
    "# Classify Enzymes"
   ]
  },
  {
   "cell_type": "code",
   "execution_count": 1,
   "metadata": {},
   "outputs": [],
   "source": [
    "# Import libraries\n",
    "import os\n",
    "import time\n",
    "import string\n",
    "import sklearn\n",
    "import numpy as np\n",
    "import pandas as pd\n",
    "import tensorflow as tf\n",
    "from sklearn.model_selection import train_test_split\n",
    "from sklearn.preprocessing import OneHotEncoder"
   ]
  },
  {
   "cell_type": "code",
   "execution_count": 12,
   "metadata": {},
   "outputs": [],
   "source": [
    "#### Import data ####\n",
    "\n",
    "##Define filepaths\n",
    "filepath = r\"C:/Users/Swata/OneDrive/Documents/Final_data/\"\n",
    "\n",
    "hydrolases_p = r\"C:\\Users\\Swata\\OneDrive\\Documents\\Final_data\\Hydrolases.csv\"\n",
    "isomerases_p = r\"C:\\Users\\Swata\\OneDrive\\Documents\\Final_data\\Isomerases.csv\"\n",
    "ligases_p = r\"C:\\Users\\Swata\\OneDrive\\Documents\\Final_data\\Ligases.csv\"\n",
    "oxidoreductases_p = r\"C:\\Users\\Swata\\OneDrive\\Documents\\Final_data\\Oxidoreductases.csv\"\n",
    "lyases_p = r\"C:\\Users\\Swata\\OneDrive\\Documents\\Final_data\\Lyases.csv\"\n",
    "translocases_p = r\"C:\\Users\\Swata\\OneDrive\\Documents\\Final_data\\Translocases.csv\"\n",
    "transferases_p = r\"C:\\Users\\Swata\\OneDrive\\Documents\\Final_data\\Transferases.csv\"\n",
    "\n",
    "## Load data\n",
    "oxidoreductases = pd.read_csv(oxidoreductases_p).drop('Unnamed: 0',axis=1)\n",
    "transferases = pd.read_csv(transferases_p).drop('Unnamed: 0',axis=1)\n",
    "hydrolases = pd.read_csv(hydrolases_p).drop('Unnamed: 0',axis=1)\n",
    "lyases = pd.read_csv(lyases_p).drop('Unnamed: 0',axis=1)\n",
    "isomerases = pd.read_csv(isomerases_p).drop('Unnamed: 0',axis=1)\n",
    "ligases = pd.read_csv(ligases_p).drop('Unnamed: 0',axis=1)\n",
    "translocases = pd.read_csv(translocases_p).drop('Unnamed: 0',axis=1)"
   ]
  },
  {
   "cell_type": "code",
   "execution_count": 13,
   "metadata": {},
   "outputs": [
    {
     "data": {
      "text/plain": [
       "(              mol_w        Residue      avg_res_w         charge  \\\n",
       " count  1.623250e+05  162325.000000  162325.000000  162325.000000   \n",
       " mean   4.857364e+04     437.743447     110.754803      -0.463271   \n",
       " std    4.435811e+04     397.336859       3.260236      12.938412   \n",
       " min    9.599000e+02      11.000000      87.264000    -744.500000   \n",
       " 25%    2.805659e+04     255.000000     108.560000      -6.000000   \n",
       " 50%    3.930546e+04     357.000000     110.871000      -0.500000   \n",
       " 75%    5.535015e+04     499.000000     113.022000       5.000000   \n",
       " max    3.906488e+06   35213.000000     130.128000     314.000000   \n",
       " \n",
       "          Iso_e_point  Mol_ext_coef  Mol_ext_coef_cys    ext_coef_mg  \\\n",
       " count  162325.000000  1.623250e+05      1.623250e+05  162325.000000   \n",
       " mean        6.646936  4.757675e+04      4.791311e+04       0.946623   \n",
       " std         1.671280  5.339003e+04      5.380054e+04       0.495873   \n",
       " min         2.563800  0.000000e+00      0.000000e+00       0.000000   \n",
       " 25%         5.254200  1.994000e+04      1.994000e+04       0.590000   \n",
       " 50%         6.357300  3.438000e+04      3.450500e+04       0.865000   \n",
       " 75%         7.738900  5.879000e+04      5.902500e+04       1.217000   \n",
       " max        12.852200  4.073970e+06      4.106095e+06       5.615000   \n",
       " \n",
       "        ext_coef_mg_cys  Imp_express_inclu_bodies  ...  non-polar_mol  \\\n",
       " count    162325.000000             162325.000000  ...  162325.000000   \n",
       " mean          0.953127                  0.668332  ...      55.963325   \n",
       " std           0.496604                  0.116160  ...       5.071080   \n",
       " min           0.000000                 -2.453000  ...      21.429000   \n",
       " 25%           0.596000                  0.572000  ...      52.822000   \n",
       " 50%           0.872000                  0.653000  ...      55.678000   \n",
       " 75%           1.224000                  0.750000  ...      58.673000   \n",
       " max           5.615000                  0.979000  ...      90.909000   \n",
       " \n",
       "                polar      polar_mol        charged    charged_mol  \\\n",
       " count  162325.000000  162325.000000  162325.000000  162325.000000   \n",
       " mean      196.223730      44.026287     112.561682      25.647026   \n",
       " std       190.605775       5.075080     103.666726       4.456033   \n",
       " min         0.000000       0.000000       0.000000       0.000000   \n",
       " 25%       107.000000      41.319000      62.000000      23.326000   \n",
       " 50%       155.000000      44.318000      90.000000      25.877000   \n",
       " 75%       224.000000      47.173000     130.000000      28.388000   \n",
       " max     17446.000000      78.571000   10260.000000      55.238000   \n",
       " \n",
       "                basic      basic_mol         acidic     acidic_mol  \\\n",
       " count  162325.000000  162325.000000  162325.000000  162325.000000   \n",
       " mean       58.628153      13.355259      53.933528      12.291755   \n",
       " std        54.063652       2.577664      50.496161       2.823352   \n",
       " min         0.000000       0.000000       0.000000       0.000000   \n",
       " 25%        32.000000      11.873000      29.000000      10.777000   \n",
       " 50%        47.000000      13.380000      43.000000      12.360000   \n",
       " 75%        68.000000      14.887000      63.000000      13.953000   \n",
       " max      5170.000000      35.000000    5090.000000      45.000000   \n",
       " \n",
       "                label  \n",
       " count  162325.000000  \n",
       " mean        3.073193  \n",
       " std         1.674079  \n",
       " min         1.000000  \n",
       " 25%         2.000000  \n",
       " 50%         3.000000  \n",
       " 75%         4.000000  \n",
       " max         7.000000  \n",
       " \n",
       " [8 rows x 107 columns],\n",
       " (162325, 107))"
      ]
     },
     "execution_count": 13,
     "metadata": {},
     "output_type": "execute_result"
    }
   ],
   "source": [
    "# Add labels:\n",
    "oxidoreductases[\"label\"] = np.ones_like(oxidoreductases[\"mol_w\"])\n",
    "transferases[\"label\"] = np.ones_like(transferases[\"mol_w\"]) * 2\n",
    "hydrolases[\"label\"] = np.ones_like(hydrolases[\"mol_w\"]) * 3\n",
    "lyases[\"label\"] = np.ones_like(lyases[\"mol_w\"]) * 4\n",
    "isomerases[\"label\"] = np.ones_like(isomerases[\"mol_w\"]) * 5 \n",
    "ligases[\"label\"] = np.ones_like(ligases[\"mol_w\"]) * 6 \n",
    "translocases[\"label\"] = np.ones_like(translocases[\"mol_w\"]) * 7\n",
    "\n",
    "# Concat all the data\n",
    "data = pd.concat([oxidoreductases,transferases,hydrolases,lyases,isomerases,ligases,translocases],axis=0)\n",
    "\n",
    "data.describe(),data.shape"
   ]
  },
  {
   "cell_type": "code",
   "execution_count": null,
   "metadata": {},
   "outputs": [],
   "source": [
    "# Export data \n"
   ]
  },
  {
   "cell_type": "code",
   "execution_count": 17,
   "metadata": {},
   "outputs": [
    {
     "data": {
      "text/plain": [
       "(          mol_w  Residue  avg_res_w  charge  Iso_e_point  Mol_ext_coef  \\\n",
       " 0     118582.13   1063.0    111.554    49.0       9.7468      102220.0   \n",
       " 1      25239.64    217.0    116.312     4.5       8.4795       40450.0   \n",
       " 2     120753.42   1081.0    111.705    58.0       9.9758       99240.0   \n",
       " 3      24229.78    212.0    114.291     2.5       7.4209       40450.0   \n",
       " 4      42669.79    387.0    110.258   -11.0       4.7574       39420.0   \n",
       " ...         ...      ...        ...     ...          ...           ...   \n",
       " 7290  173671.31   1543.0    112.554    33.0       8.8470      220590.0   \n",
       " 7291  163735.24   1501.0    109.084    14.0       7.1717      213140.0   \n",
       " 7292   76063.42    655.0    116.127    -9.0       5.6740       45380.0   \n",
       " 7293   76145.73    655.0    116.253    -9.0       5.6723       39880.0   \n",
       " 7294  171791.71   1531.0    112.209    14.0       7.7038      238010.0   \n",
       " \n",
       "       Mol_ext_coef_cys  ext_coef_mg  ext_coef_mg_cys  \\\n",
       " 0             103220.0        0.862            0.870   \n",
       " 1              40575.0        1.603            1.608   \n",
       " 2             100240.0        0.822            0.830   \n",
       " 3              40450.0        1.669            1.669   \n",
       " 4              39670.0        0.924            0.930   \n",
       " ...                ...          ...              ...   \n",
       " 7290          221965.0        1.270            1.278   \n",
       " 7291          215015.0        1.302            1.313   \n",
       " 7292           45755.0        0.597            0.602   \n",
       " 7293           40380.0        0.524            0.530   \n",
       " 7294          239510.0        1.385            1.394   \n",
       " \n",
       "       Imp_express_inclu_bodies  ...  basic_mol  acidic  acidic_mol  label_1.0  \\\n",
       " 0                        0.933  ...     18.627   136.0      12.794          1   \n",
       " 1                        0.720  ...     15.668    27.0      12.442          1   \n",
       " 2                        0.911  ...     18.964   135.0      12.488          1   \n",
       " 3                        0.558  ...     15.094    27.0      12.736          1   \n",
       " 4                        0.597  ...     11.886    54.0      13.953          1   \n",
       " ...                        ...  ...        ...     ...         ...        ...   \n",
       " 7290                     0.743  ...     12.378   145.0       9.397          0   \n",
       " 7291                     0.676  ...     10.460   124.0       8.261          0   \n",
       " 7292                     0.625  ...     19.542   129.0      19.695          0   \n",
       " 7293                     0.636  ...     19.389   128.0      19.542          0   \n",
       " 7294                     0.675  ...     11.626   153.0       9.993          0   \n",
       " \n",
       "       label_2.0  label_3.0  label_4.0  label_5.0  label_6.0  label_7.0  \n",
       " 0             0          0          0          0          0          0  \n",
       " 1             0          0          0          0          0          0  \n",
       " 2             0          0          0          0          0          0  \n",
       " 3             0          0          0          0          0          0  \n",
       " 4             0          0          0          0          0          0  \n",
       " ...         ...        ...        ...        ...        ...        ...  \n",
       " 7290          0          0          0          0          0          1  \n",
       " 7291          0          0          0          0          0          1  \n",
       " 7292          0          0          0          0          0          1  \n",
       " 7293          0          0          0          0          0          1  \n",
       " 7294          0          0          0          0          0          1  \n",
       " \n",
       " [162325 rows x 113 columns],\n",
       "           mol_w  Residue  avg_res_w  charge  Iso_e_point  Mol_ext_coef  \\\n",
       " 105    26762.82    235.0    113.884    -9.5       4.6693       47440.0   \n",
       " 106    28053.10    236.0    118.869     9.5       9.5425       45380.0   \n",
       " 107    71276.75    636.0    112.070     4.5       7.0230       88240.0   \n",
       " 108    27888.92    238.0    117.180     0.0       6.4876       51910.0   \n",
       " 109    24217.23    214.0    113.165     1.0       7.2060       44920.0   \n",
       " ...         ...      ...        ...     ...          ...           ...   \n",
       " 7290  173671.31   1543.0    112.554    33.0       8.8470      220590.0   \n",
       " 7291  163735.24   1501.0    109.084    14.0       7.1717      213140.0   \n",
       " 7292   76063.42    655.0    116.127    -9.0       5.6740       45380.0   \n",
       " 7293   76145.73    655.0    116.253    -9.0       5.6723       39880.0   \n",
       " 7294  171791.71   1531.0    112.209    14.0       7.7038      238010.0   \n",
       " \n",
       "       Mol_ext_coef_cys  ext_coef_mg  ext_coef_mg_cys  \\\n",
       " 105            47440.0        1.773            1.773   \n",
       " 106            45505.0        1.618            1.622   \n",
       " 107            88740.0        1.238            1.245   \n",
       " 108            52160.0        1.861            1.870   \n",
       " 109            44920.0        1.855            1.855   \n",
       " ...                ...          ...              ...   \n",
       " 7290          221965.0        1.270            1.278   \n",
       " 7291          215015.0        1.302            1.313   \n",
       " 7292           45755.0        0.597            0.602   \n",
       " 7293           40380.0        0.524            0.530   \n",
       " 7294          239510.0        1.385            1.394   \n",
       " \n",
       "       Imp_express_inclu_bodies  ...  basic_mol  acidic  acidic_mol  label_1.0  \\\n",
       " 105                      0.603  ...     12.340    35.0      14.894          1   \n",
       " 106                      0.904  ...     16.949    28.0      11.864          1   \n",
       " 107                      0.690  ...     14.465    80.0      12.579          1   \n",
       " 108                      0.726  ...     14.706    33.0      13.866          1   \n",
       " 109                      0.687  ...     14.953    30.0      14.019          1   \n",
       " ...                        ...  ...        ...     ...         ...        ...   \n",
       " 7290                     0.743  ...     12.378   145.0       9.397          0   \n",
       " 7291                     0.676  ...     10.460   124.0       8.261          0   \n",
       " 7292                     0.625  ...     19.542   129.0      19.695          0   \n",
       " 7293                     0.636  ...     19.389   128.0      19.542          0   \n",
       " 7294                     0.675  ...     11.626   153.0       9.993          0   \n",
       " \n",
       "       label_2.0  label_3.0  label_4.0  label_5.0  label_6.0  label_7.0  \n",
       " 105           0          0          0          0          0          0  \n",
       " 106           0          0          0          0          0          0  \n",
       " 107           0          0          0          0          0          0  \n",
       " 108           0          0          0          0          0          0  \n",
       " 109           0          0          0          0          0          0  \n",
       " ...         ...        ...        ...        ...        ...        ...  \n",
       " 7290          0          0          0          0          0          1  \n",
       " 7291          0          0          0          0          0          1  \n",
       " 7292          0          0          0          0          0          1  \n",
       " 7293          0          0          0          0          0          1  \n",
       " 7294          0          0          0          0          0          1  \n",
       " \n",
       " [162220 rows x 113 columns])"
      ]
     },
     "execution_count": 17,
     "metadata": {},
     "output_type": "execute_result"
    }
   ],
   "source": [
    "data_OHE = pd.get_dummies(data,columns=['label'])\n",
    "data_OHE,"
   ]
  },
  {
   "cell_type": "code",
   "execution_count": 62,
   "metadata": {},
   "outputs": [
    {
     "data": {
      "text/plain": [
       "((162325, 106), (162325, 7))"
      ]
     },
     "execution_count": 62,
     "metadata": {},
     "output_type": "execute_result"
    }
   ],
   "source": [
    "data_numpy = data_OHE.to_numpy()\n",
    "x = data_numpy[:,0:106]\n",
    "y = data_numpy[:,106:]\n",
    "x.shape, y.shape"
   ]
  },
  {
   "cell_type": "code",
   "execution_count": 65,
   "metadata": {},
   "outputs": [
    {
     "data": {
      "text/plain": [
       "(array([[ 4.31285966e-01,  3.85188081e-03,  4.92343998e-06, ...,\n",
       "          3.24764561e-05,  5.05568899e-04,  3.09407051e-06],\n",
       "        [-1.43748625e-01, -1.35988570e-03,  3.42350063e-05, ...,\n",
       "          1.42475942e-05, -1.65923477e-04,  9.25581372e-07],\n",
       "        [ 4.44662155e-01,  3.96276946e-03,  5.85367253e-06, ...,\n",
       "          3.45525380e-05,  4.99408419e-04,  1.20896348e-06],\n",
       "        ...,\n",
       "        [ 1.69350281e-01,  1.33840476e-03,  3.30953174e-05, ...,\n",
       "          3.81132958e-05,  4.62445536e-04,  4.56075466e-05],\n",
       "        [ 1.69857350e-01,  1.33840476e-03,  3.38715379e-05, ...,\n",
       "          3.71707423e-05,  4.56285055e-04,  4.46649930e-05],\n",
       "        [ 7.59082547e-01,  6.73498570e-03,  8.95855472e-06, ...,\n",
       "         -1.06530680e-05,  6.10297068e-04, -1.41614354e-05]]),\n",
       " (162325, 106))"
      ]
     },
     "execution_count": 65,
     "metadata": {},
     "output_type": "execute_result"
    }
   ],
   "source": [
    "x_norm = np.zeros_like(x)\n",
    "for i in range(x.shape[1]):\n",
    "    tmp_arr = x[:,i]\n",
    "    mean = np.mean(tmp_arr)\n",
    "    tmp_arr2 = (tmp_arr - mean) / 162325\n",
    "    x_norm[:,i] = tmp_arr2\n",
    "x_norm, x_norm.shape"
   ]
  },
  {
   "cell_type": "code",
   "execution_count": 75,
   "metadata": {},
   "outputs": [],
   "source": [
    "X_train, X_test, y_train, y_test = train_test_split(x_norm, y, test_size=0.30)\n",
    "# X_train = tf.convert_to_tensor(X_train)\n",
    "# X_test =  tf.convert_to_tensor(X_test)\n",
    "# y_train = tf.convert_to_tensor(y_train)\n",
    "# y_test = tf.convert_to_tensor(y_test)"
   ]
  },
  {
   "cell_type": "code",
   "execution_count": 70,
   "metadata": {},
   "outputs": [],
   "source": [
    "# data_numpy = data.to_numpy()\n",
    "# data = data_numpy\n",
    "# Convert to numpy\n",
    "# for i in range(data.shape[0]):\n",
    "#     if data[i,106] == 1:\n",
    "#         data[i,106] = np.array([1,0,0,0,0,0,0])\n",
    "#     elif data[i,106] == 2:\n",
    "#         data[i,106] = np.array([0,1,0,0,0,0,0])\n",
    "#     elif data[i,106] == 3:\n",
    "#         data[i,106] = np.array([0,0,1,0,0,0,0])\n",
    "#     elif data[i,106] == 4:\n",
    "#         data[i,106] = np.array([0,0,0,1,0,0,0])\n",
    "#     elif data[i,106] == 5:\n",
    "#         data[i,106] = np.array([0,0,0,0,1,0,0])\n",
    "#     elif data[i,106] == 6:\n",
    "#         data[i,106] = np.array([0,0,0,0,0,1,0])\n",
    "#     elif data[i,106] == 7:\n",
    "#         data[i,106] = np.array([0,0,0,0,0,0,1])\n",
    "\n"
   ]
  },
  {
   "cell_type": "code",
   "execution_count": 77,
   "metadata": {},
   "outputs": [],
   "source": [
    "model = tf.keras.Sequential([\n",
    "    tf.keras.layers.Dense(106),\n",
    "    tf.keras.layers.Dense(200, activation='relu'),\n",
    "    tf.keras.layers.Dense(200, activation='relu'),\n",
    "    tf.keras.layers.Dense(7,activation='softmax')\n",
    "])\n",
    "model.compile(optimizer='adam',\n",
    "              loss=tf.keras.losses.CategoricalCrossentropy(),\n",
    "              metrics=['accuracy'])"
   ]
  },
  {
   "cell_type": "code",
   "execution_count": 79,
   "metadata": {},
   "outputs": [
    {
     "name": "stdout",
     "output_type": "stream",
     "text": [
      "Epoch 1/15\n",
      "3551/3551 [==============================] - 26s 7ms/step - loss: 1.6238 - accuracy: 0.3645\n",
      "Epoch 2/15\n",
      "3437/3551 [============================>.] - ETA: 1s - loss: 1.6039 - accuracy: 0.3708"
     ]
    }
   ],
   "source": [
    "model.fit(X_train,y_train,epochs=15)"
   ]
  },
  {
   "cell_type": "code",
   "execution_count": null,
   "metadata": {},
   "outputs": [
    {
     "name": "stdout",
     "output_type": "stream",
     "text": [
      "554/554 - 3s - loss: 0.6279 - accuracy: 0.6467 - 3s/epoch - 5ms/step\n",
      "\n",
      "Test accuracy: 0.6466572880744934\n"
     ]
    }
   ],
   "source": [
    "test_loss, test_acc = model.evaluate(X_test,  y_test, verbose=2)\n",
    "\n",
    "print('\\nTest accuracy:', test_acc)"
   ]
  },
  {
   "cell_type": "code",
   "execution_count": null,
   "metadata": {},
   "outputs": [],
   "source": []
  }
 ],
 "metadata": {
  "interpreter": {
   "hash": "b31622cea9f62dcc25810e311d273a3a63d78d0be236c36ebef03fa5d98da372"
  },
  "kernelspec": {
   "display_name": "Python 3.9.12 ('base')",
   "language": "python",
   "name": "python3"
  },
  "language_info": {
   "codemirror_mode": {
    "name": "ipython",
    "version": 3
   },
   "file_extension": ".py",
   "mimetype": "text/x-python",
   "name": "python",
   "nbconvert_exporter": "python",
   "pygments_lexer": "ipython3",
   "version": "3.9.12"
  },
  "orig_nbformat": 4
 },
 "nbformat": 4,
 "nbformat_minor": 2
}
