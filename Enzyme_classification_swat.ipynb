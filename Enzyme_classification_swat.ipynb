{
 "cells": [
  {
   "cell_type": "markdown",
   "metadata": {},
   "source": [
    "# Classify Enzymes"
   ]
  },
  {
   "cell_type": "markdown",
   "metadata": {},
   "source": [
    "### Import Libraries"
   ]
  },
  {
   "cell_type": "code",
   "execution_count": 13,
   "metadata": {},
   "outputs": [],
   "source": [
    "# Import libraries\n",
    "import os\n",
    "import time\n",
    "import string\n",
    "import sklearn\n",
    "import numpy as np\n",
    "import pandas as pd\n",
    "import tensorflow as tf\n",
    "import matplotlib.pyplot as plt\n",
    "from sklearn.metrics import precision_score, recall_score, f1_score, accuracy_score\n",
    "from sklearn.preprocessing import OneHotEncoder\n",
    "from sklearn.ensemble import RandomForestClassifier\n",
    "from sklearn.model_selection import train_test_split\n",
    "from sklearn.inspection import permutation_importance\n",
    "from sklearn.feature_selection import SelectFromModel"
   ]
  },
  {
   "cell_type": "markdown",
   "metadata": {},
   "source": [
    "### Import Data from filepath; omit the first column"
   ]
  },
  {
   "cell_type": "code",
   "execution_count": 3,
   "metadata": {},
   "outputs": [],
   "source": [
    "#### Import data ####\n",
    "\n",
    "##Define filepaths\n",
    "filepath = r\"C:/Users/Swata/OneDrive/Documents/Final_data/\"\n",
    "\n",
    "hydrolases_p = r\"C:\\Users\\Swata\\OneDrive\\Documents\\Final_data\\Hydrolases.csv\"\n",
    "isomerases_p = r\"C:\\Users\\Swata\\OneDrive\\Documents\\Final_data\\Isomerases.csv\"\n",
    "ligases_p = r\"C:\\Users\\Swata\\OneDrive\\Documents\\Final_data\\Ligases.csv\"\n",
    "oxidoreductases_p = r\"C:\\Users\\Swata\\OneDrive\\Documents\\Final_data\\Oxidoreductases.csv\"\n",
    "lyases_p = r\"C:\\Users\\Swata\\OneDrive\\Documents\\Final_data\\Lyases.csv\"\n",
    "translocases_p = r\"C:\\Users\\Swata\\OneDrive\\Documents\\Final_data\\Translocases.csv\"\n",
    "transferases_p = r\"C:\\Users\\Swata\\OneDrive\\Documents\\Final_data\\Transferases.csv\"\n",
    "\n",
    "## Load data and drop the first row containing the row numbers\n",
    "oxidoreductases = pd.read_csv(oxidoreductases_p).drop('Unnamed: 0',axis=1)\n",
    "transferases = pd.read_csv(transferases_p).drop('Unnamed: 0',axis=1)\n",
    "hydrolases = pd.read_csv(hydrolases_p).drop('Unnamed: 0',axis=1)\n",
    "lyases = pd.read_csv(lyases_p).drop('Unnamed: 0',axis=1)\n",
    "isomerases = pd.read_csv(isomerases_p).drop('Unnamed: 0',axis=1)\n",
    "ligases = pd.read_csv(ligases_p).drop('Unnamed: 0',axis=1)\n",
    "translocases = pd.read_csv(translocases_p).drop('Unnamed: 0',axis=1)"
   ]
  },
  {
   "cell_type": "markdown",
   "metadata": {},
   "source": [
    "### Plot the amount of instnces per class"
   ]
  },
  {
   "cell_type": "code",
   "execution_count": 3,
   "metadata": {},
   "outputs": [
    {
     "name": "stdout",
     "output_type": "stream",
     "text": [
      "21169 56357 37912 14304 8772 16516 7295\n",
      "['oxidoreductases', 'transferases', 'hydrolases', 'lyases', 'isomerases', 'ligases', 'translocases']\n"
     ]
    },
    {
     "data": {
      "image/png": "[encoded data removed]",
      "text/plain": [
       "<Figure size 432x288 with 1 Axes>"
      ]
     },
     "metadata": {
      "needs_background": "light"
     },
     "output_type": "display_data"
    }
   ],
   "source": [
    "print(\n",
    "oxidoreductases.shape[0],\n",
    "transferases.shape[0],\n",
    "hydrolases.shape[0],\n",
    "lyases.shape[0],\n",
    "isomerases.shape[0],\n",
    "ligases.shape[0],\n",
    "translocases.shape[0]\n",
    ") # print the number of instance per class\n",
    "enzymes_instances = [oxidoreductases.shape[0],\n",
    "transferases.shape[0],\n",
    "hydrolases.shape[0],\n",
    "lyases.shape[0],\n",
    "isomerases.shape[0],\n",
    "ligases.shape[0],\n",
    "translocases.shape[0]]\n",
    "\n",
    "enzyme_names = ['oxidoreductases',\n",
    "'transferases',\n",
    "'hydrolases',\n",
    "'lyases',\n",
    "'isomerases',\n",
    "'ligases',\n",
    "'translocases']\n",
    "plt.bar(range(7),height=enzymes_instances)\n",
    "print(enzyme_names)"
   ]
  },
  {
   "cell_type": "markdown",
   "metadata": {},
   "source": [
    "### Add labels and concatenate all data in a single dataframe"
   ]
  },
  {
   "cell_type": "code",
   "execution_count": 4,
   "metadata": {},
   "outputs": [],
   "source": [
    "# Add labels:\n",
    "oxidoreductases[\"label\"] = [\"Oxi\" for i in range(len(oxidoreductases))]\n",
    "transferases[\"label\"] = [\"trf\" for i in range(len(transferases))]\n",
    "hydrolases[\"label\"] = [\"hyd\" for i in range(len(hydrolases))]\n",
    "lyases[\"label\"] = [\"lys\" for i in range(len(lyases))]\n",
    "isomerases[\"label\"] = [\"iso\" for i in range(len(isomerases))]\n",
    "ligases[\"label\"] = [\"lig\" for i in range(len(ligases))]\n",
    "translocases[\"label\"] = [\"trl\" for i in range(len(translocases))]\n",
    "\n",
    "# Concat all the data\n",
    "# data = pd.concat([oxidoreductases,transferases,hydrolases,lyases,isomerases,ligases,translocases],axis=0)\n",
    "data = pd.concat([oxidoreductases,lyases,isomerases,ligases,translocases],axis=0)\n",
    "data2 = pd.concat([transferases,hydrolases])"
   ]
  },
  {
   "cell_type": "markdown",
   "metadata": {},
   "source": [
    "### Create the feature and labels matrices"
   ]
  },
  {
   "cell_type": "markdown",
   "metadata": {},
   "source": [
    "### Train a random-forest model to select features"
   ]
  },
  {
   "cell_type": "code",
   "execution_count": 6,
   "metadata": {},
   "outputs": [],
   "source": [
    "rf_x = data.iloc[:,:106]\n",
    "rf_y = data.iloc[:,106:]  "
   ]
  },
  {
   "cell_type": "code",
   "execution_count": null,
   "metadata": {},
   "outputs": [],
   "source": []
  },
  {
   "cell_type": "code",
   "execution_count": 8,
   "metadata": {},
   "outputs": [],
   "source": [
    "X_train, X_test, y_train, y_test = train_test_split(rf_x, rf_y, test_size=0.05)\n",
    "y_train = np.ravel(y_train)\n",
    "y_test = np.ravel(y_test)\n",
    "model = RandomForestClassifier(n_estimators=350, criterion='gini', max_depth=None, min_samples_split=2,\n",
    "                               min_samples_leaf=1, min_weight_fraction_leaf=0.0, max_features='sqrt', \n",
    "                               max_leaf_nodes=None, min_impurity_decrease=0.0, bootstrap=True, oob_score=True, \n",
    "                               n_jobs=None, random_state=2022, verbose=1, warm_start=False, class_weight=None,\n",
    "                               ccp_alpha=0.0, max_samples=None)"
   ]
  },
  {
   "cell_type": "code",
   "execution_count": 9,
   "metadata": {},
   "outputs": [
    {
     "name": "stderr",
     "output_type": "stream",
     "text": [
      "[Parallel(n_jobs=1)]: Using backend SequentialBackend with 1 concurrent workers.\n",
      "[Parallel(n_jobs=1)]: Done 350 out of 350 | elapsed:  9.4min finished\n"
     ]
    },
    {
     "data": {
      "text/plain": [
       "RandomForestClassifier(max_features='sqrt', n_estimators=350, oob_score=True,\n",
       "                       random_state=2022, verbose=1)"
      ]
     },
     "execution_count": 9,
     "metadata": {},
     "output_type": "execute_result"
    }
   ],
   "source": [
    "model.fit(X_train,y_train)"
   ]
  },
  {
   "cell_type": "code",
   "execution_count": 19,
   "metadata": {},
   "outputs": [],
   "source": [
    "imp_features = model.feature_importances_ \n",
    "imp_features"
   ]
  },
  {
   "cell_type": "code",
   "execution_count": 23,
   "metadata": {},
   "outputs": [
    {
     "data": {
      "text/plain": [
       "array([0.00000000e+00, 0.00000000e+00, 0.00000000e+00, 0.00000000e+00,\n",
       "       0.00000000e+00, 0.00000000e+00, 0.00000000e+00, 0.00000000e+00,\n",
       "       0.00000000e+00, 7.70986185e-07, 1.16586230e-06, 1.74649944e-06,\n",
       "       4.83000269e-05, 5.15232587e-05, 5.32403325e-05, 5.58818402e-05,\n",
       "       5.60735008e-05, 5.76442987e-05, 6.39743071e-03, 7.75221161e-03,\n",
       "       7.76198920e-03, 7.78194778e-03, 7.78460558e-03, 7.99796361e-03,\n",
       "       8.07213399e-03, 8.16421966e-03, 8.21401047e-03, 8.30253343e-03,\n",
       "       8.42476966e-03, 8.81177154e-03, 8.87758348e-03, 9.12190554e-03,\n",
       "       9.21296967e-03, 9.29024439e-03, 9.43223382e-03, 9.48212983e-03,\n",
       "       9.48640255e-03, 9.57512343e-03, 9.65943368e-03, 9.73860010e-03,\n",
       "       9.96063714e-03, 9.96575776e-03, 9.99883166e-03, 1.00002974e-02,\n",
       "       1.00155921e-02, 1.00977647e-02, 1.01070602e-02, 1.01158236e-02,\n",
       "       1.01983311e-02, 1.02610533e-02, 1.05512897e-02, 1.06255218e-02,\n",
       "       1.06833585e-02, 1.07567182e-02, 1.07666471e-02, 1.08994797e-02,\n",
       "       1.09666361e-02, 1.10033503e-02, 1.13035483e-02, 1.13055038e-02,\n",
       "       1.13283442e-02, 1.13790902e-02, 1.14750584e-02, 1.14830257e-02,\n",
       "       1.15430890e-02, 1.16979482e-02, 1.17579989e-02, 1.17668514e-02,\n",
       "       1.17869339e-02, 1.18270603e-02, 1.18584256e-02, 1.18726684e-02,\n",
       "       1.18850296e-02, 1.19718339e-02, 1.20611411e-02, 1.22200853e-02,\n",
       "       1.22428759e-02, 1.22520930e-02, 1.22629481e-02, 1.24306777e-02,\n",
       "       1.24853688e-02, 1.25159614e-02, 1.25744819e-02, 1.25968450e-02,\n",
       "       1.26144187e-02, 1.26952359e-02, 1.28047418e-02, 1.28495995e-02,\n",
       "       1.28654474e-02, 1.29429253e-02, 1.31097501e-02, 1.32916643e-02,\n",
       "       1.32949742e-02, 1.36288884e-02, 1.36790996e-02, 1.37765850e-02,\n",
       "       1.38254813e-02, 1.38416557e-02, 1.42258169e-02, 1.43593889e-02,\n",
       "       1.45731990e-02, 1.46090792e-02, 1.46733843e-02, 1.60071648e-02,\n",
       "       1.97505830e-02, 2.00533178e-02])"
      ]
     },
     "execution_count": 23,
     "metadata": {},
     "output_type": "execute_result"
    }
   ],
   "source": [
    "sorted_idx = imp_features.argsort()\n",
    "imp_features[sorted_idx]"
   ]
  },
  {
   "cell_type": "code",
   "execution_count": 27,
   "metadata": {},
   "outputs": [
    {
     "data": {
      "text/plain": [
       "<matplotlib.collections.PathCollection at 0x207eaaef130>"
      ]
     },
     "execution_count": 27,
     "metadata": {},
     "output_type": "execute_result"
    },
    {
     "data": {
      "image/png": "[encoded data removed]",
      "text/plain": [
       "<Figure size 432x288 with 1 Axes>"
      ]
     },
     "metadata": {
      "needs_background": "light"
     },
     "output_type": "display_data"
    }
   ],
   "source": [
    "plt.scatter(range(len(imp_features)),imp_features[sorted_idx])"
   ]
  },
  {
   "cell_type": "code",
   "execution_count": 36,
   "metadata": {},
   "outputs": [
    {
     "data": {
      "text/plain": [
       "True"
      ]
     },
     "execution_count": 36,
     "metadata": {},
     "output_type": "execute_result"
    }
   ],
   "source": [
    "imp_features[sorted_idx] > 0.005    ## 0.005 visual threshold\n",
    "sorted_idx,"
   ]
  },
  {
   "cell_type": "code",
   "execution_count": 44,
   "metadata": {},
   "outputs": [
    {
     "data": {
      "text/plain": [
       "array([  0,   1,   2,   3,   4,   5,   6,   7,   8,   9,  10,  11,  12,\n",
       "        16,  17,  18,  19,  20,  21,  22,  23,  24,  25,  26,  27,  28,\n",
       "        29,  30,  31,  32,  33,  34,  35,  36,  40,  41,  42,  43,  44,\n",
       "        45,  46,  47,  48,  49,  50,  51,  55,  56,  57,  58,  59,  60,\n",
       "        61,  62,  63,  64,  65,  66,  67,  68,  69,  73,  74,  75,  76,\n",
       "        77,  78,  82,  83,  84,  88,  89,  90,  91,  92,  93,  94,  95,\n",
       "        96,  97,  98,  99, 100, 101, 102, 103, 104, 105], dtype=int64)"
      ]
     },
     "execution_count": 44,
     "metadata": {},
     "output_type": "execute_result"
    }
   ],
   "source": [
    "sorted_idx_trim = sorted_idx[18:]\n",
    "sorted_idx_trim.sort()\n",
    "sorted_idx_trim"
   ]
  },
  {
   "cell_type": "code",
   "execution_count": 45,
   "metadata": {},
   "outputs": [
    {
     "data": {
      "text/plain": [
       "Index(['mol_w', 'Residue', 'avg_res_w', 'charge', 'Iso_e_point',\n",
       "       'Mol_ext_coef', 'Mol_ext_coef_cys', 'ext_coef_mg', 'ext_coef_mg_cys',\n",
       "       'Imp_express_inclu_bodies', 'Anum', 'Amole%', 'Adhfs', 'Cnum', 'Cmole%',\n",
       "       'Cdhfs', 'Dnum', 'Dmole%', 'Ddhfs', 'Enum', 'Emole%', 'Edhfs', 'Fnum',\n",
       "       'Fmole%', 'Fdhfs', 'Gnum', 'Gmole%', 'Gdhfs', 'Hnum', 'Hmole%', 'Hdhfs',\n",
       "       'Inum', 'Imole%', 'Idhfs', 'Knum', 'Kmole%', 'Kdhfs', 'Lnum', 'Lmole%',\n",
       "       'Ldhfs', 'Mnum', 'Mmole%', 'Mdhfs', 'Nnum', 'Nmole%', 'Ndhfs', 'Pnum',\n",
       "       'Pmole%', 'Pdhfs', 'Qnum', 'Qmole%', 'Qdhfs', 'Rnum', 'Rmole%', 'Rdhfs',\n",
       "       'Snum', 'Smole%', 'Sdhfs', 'Tnum', 'Tmole%', 'Tdhfs', 'Vnum', 'Vmole%',\n",
       "       'Vdhfs', 'Wnum', 'Wmole%', 'Wdhfs', 'Ynum', 'Ymole%', 'Ydhfs', 'tiny',\n",
       "       'tiny_mol', 'small', 'small_mol', 'aliphatic', 'aliphatic_mol',\n",
       "       'aromatic', 'aromatic_mol', 'non-polar', 'non-polar_mol', 'polar',\n",
       "       'polar_mol', 'charged', 'charged_mol', 'basic', 'basic_mol', 'acidic',\n",
       "       'acidic_mol'],\n",
       "      dtype='object')"
      ]
     },
     "execution_count": 45,
     "metadata": {},
     "output_type": "execute_result"
    }
   ],
   "source": [
    "selected_features = rf_x.columns[sorted_idx_trim]\n",
    "selected_features"
   ]
  },
  {
   "cell_type": "markdown",
   "metadata": {},
   "source": [
    "## THE ANN"
   ]
  },
  {
   "cell_type": "markdown",
   "metadata": {},
   "source": [
    "### 1. Create the feature and label matrices and split them into train-test sets"
   ]
  },
  {
   "cell_type": "code",
   "execution_count": 18,
   "metadata": {},
   "outputs": [
    {
     "data": {
      "text/html": [
       "<div>\n",
       "<style scoped>\n",
       "    .dataframe tbody tr th:only-of-type {\n",
       "        vertical-align: middle;\n",
       "    }\n",
       "\n",
       "    .dataframe tbody tr th {\n",
       "        vertical-align: top;\n",
       "    }\n",
       "\n",
       "    .dataframe thead th {\n",
       "        text-align: right;\n",
       "    }\n",
       "</style>\n",
       "<table border=\"1\" class=\"dataframe\">\n",
       "  <thead>\n",
       "    <tr style=\"text-align: right;\">\n",
       "      <th></th>\n",
       "      <th>mol_w</th>\n",
       "      <th>Residue</th>\n",
       "      <th>avg_res_w</th>\n",
       "      <th>charge</th>\n",
       "      <th>Iso_e_point</th>\n",
       "      <th>Mol_ext_coef</th>\n",
       "      <th>Mol_ext_coef_cys</th>\n",
       "      <th>ext_coef_mg</th>\n",
       "      <th>ext_coef_mg_cys</th>\n",
       "      <th>Imp_express_inclu_bodies</th>\n",
       "      <th>...</th>\n",
       "      <th>non-polar_mol</th>\n",
       "      <th>polar</th>\n",
       "      <th>polar_mol</th>\n",
       "      <th>charged</th>\n",
       "      <th>charged_mol</th>\n",
       "      <th>basic</th>\n",
       "      <th>basic_mol</th>\n",
       "      <th>acidic</th>\n",
       "      <th>acidic_mol</th>\n",
       "      <th>label</th>\n",
       "    </tr>\n",
       "  </thead>\n",
       "  <tbody>\n",
       "    <tr>\n",
       "      <th>13516</th>\n",
       "      <td>34912.05</td>\n",
       "      <td>323.0</td>\n",
       "      <td>108.087</td>\n",
       "      <td>-2.5</td>\n",
       "      <td>5.9013</td>\n",
       "      <td>12950.0</td>\n",
       "      <td>13325.0</td>\n",
       "      <td>0.371</td>\n",
       "      <td>0.382</td>\n",
       "      <td>0.732</td>\n",
       "      <td>...</td>\n",
       "      <td>57.276</td>\n",
       "      <td>138.0</td>\n",
       "      <td>42.724</td>\n",
       "      <td>73.0</td>\n",
       "      <td>22.601</td>\n",
       "      <td>37.0</td>\n",
       "      <td>11.455</td>\n",
       "      <td>36.0</td>\n",
       "      <td>11.146</td>\n",
       "      <td>Oxi</td>\n",
       "    </tr>\n",
       "    <tr>\n",
       "      <th>13954</th>\n",
       "      <td>43231.95</td>\n",
       "      <td>405.0</td>\n",
       "      <td>106.746</td>\n",
       "      <td>3.5</td>\n",
       "      <td>6.8154</td>\n",
       "      <td>27850.0</td>\n",
       "      <td>28100.0</td>\n",
       "      <td>0.644</td>\n",
       "      <td>0.650</td>\n",
       "      <td>0.548</td>\n",
       "      <td>...</td>\n",
       "      <td>60.247</td>\n",
       "      <td>161.0</td>\n",
       "      <td>39.753</td>\n",
       "      <td>103.0</td>\n",
       "      <td>25.432</td>\n",
       "      <td>58.0</td>\n",
       "      <td>14.321</td>\n",
       "      <td>45.0</td>\n",
       "      <td>11.111</td>\n",
       "      <td>lys</td>\n",
       "    </tr>\n",
       "    <tr>\n",
       "      <th>3585</th>\n",
       "      <td>59112.27</td>\n",
       "      <td>544.0</td>\n",
       "      <td>108.662</td>\n",
       "      <td>-9.5</td>\n",
       "      <td>5.3848</td>\n",
       "      <td>47790.0</td>\n",
       "      <td>47915.0</td>\n",
       "      <td>0.808</td>\n",
       "      <td>0.811</td>\n",
       "      <td>0.548</td>\n",
       "      <td>...</td>\n",
       "      <td>58.824</td>\n",
       "      <td>224.0</td>\n",
       "      <td>41.176</td>\n",
       "      <td>140.0</td>\n",
       "      <td>25.735</td>\n",
       "      <td>69.0</td>\n",
       "      <td>12.684</td>\n",
       "      <td>71.0</td>\n",
       "      <td>13.051</td>\n",
       "      <td>lig</td>\n",
       "    </tr>\n",
       "    <tr>\n",
       "      <th>6052</th>\n",
       "      <td>37895.53</td>\n",
       "      <td>359.0</td>\n",
       "      <td>105.559</td>\n",
       "      <td>-4.0</td>\n",
       "      <td>5.7957</td>\n",
       "      <td>26930.0</td>\n",
       "      <td>27180.0</td>\n",
       "      <td>0.711</td>\n",
       "      <td>0.717</td>\n",
       "      <td>0.580</td>\n",
       "      <td>...</td>\n",
       "      <td>62.953</td>\n",
       "      <td>133.0</td>\n",
       "      <td>37.047</td>\n",
       "      <td>85.0</td>\n",
       "      <td>23.677</td>\n",
       "      <td>43.0</td>\n",
       "      <td>11.978</td>\n",
       "      <td>42.0</td>\n",
       "      <td>11.699</td>\n",
       "      <td>lys</td>\n",
       "    </tr>\n",
       "    <tr>\n",
       "      <th>5894</th>\n",
       "      <td>19039.08</td>\n",
       "      <td>181.0</td>\n",
       "      <td>105.188</td>\n",
       "      <td>10.5</td>\n",
       "      <td>9.9430</td>\n",
       "      <td>12950.0</td>\n",
       "      <td>13200.0</td>\n",
       "      <td>0.680</td>\n",
       "      <td>0.693</td>\n",
       "      <td>0.895</td>\n",
       "      <td>...</td>\n",
       "      <td>60.773</td>\n",
       "      <td>71.0</td>\n",
       "      <td>39.227</td>\n",
       "      <td>40.0</td>\n",
       "      <td>22.099</td>\n",
       "      <td>26.0</td>\n",
       "      <td>14.365</td>\n",
       "      <td>14.0</td>\n",
       "      <td>7.735</td>\n",
       "      <td>trl</td>\n",
       "    </tr>\n",
       "    <tr>\n",
       "      <th>...</th>\n",
       "      <td>...</td>\n",
       "      <td>...</td>\n",
       "      <td>...</td>\n",
       "      <td>...</td>\n",
       "      <td>...</td>\n",
       "      <td>...</td>\n",
       "      <td>...</td>\n",
       "      <td>...</td>\n",
       "      <td>...</td>\n",
       "      <td>...</td>\n",
       "      <td>...</td>\n",
       "      <td>...</td>\n",
       "      <td>...</td>\n",
       "      <td>...</td>\n",
       "      <td>...</td>\n",
       "      <td>...</td>\n",
       "      <td>...</td>\n",
       "      <td>...</td>\n",
       "      <td>...</td>\n",
       "      <td>...</td>\n",
       "      <td>...</td>\n",
       "    </tr>\n",
       "    <tr>\n",
       "      <th>4122</th>\n",
       "      <td>38214.98</td>\n",
       "      <td>335.0</td>\n",
       "      <td>114.075</td>\n",
       "      <td>20.5</td>\n",
       "      <td>10.0985</td>\n",
       "      <td>79870.0</td>\n",
       "      <td>79995.0</td>\n",
       "      <td>2.090</td>\n",
       "      <td>2.093</td>\n",
       "      <td>0.809</td>\n",
       "      <td>...</td>\n",
       "      <td>59.104</td>\n",
       "      <td>137.0</td>\n",
       "      <td>40.896</td>\n",
       "      <td>84.0</td>\n",
       "      <td>25.075</td>\n",
       "      <td>56.0</td>\n",
       "      <td>16.716</td>\n",
       "      <td>28.0</td>\n",
       "      <td>8.358</td>\n",
       "      <td>Oxi</td>\n",
       "    </tr>\n",
       "    <tr>\n",
       "      <th>5796</th>\n",
       "      <td>37795.37</td>\n",
       "      <td>336.0</td>\n",
       "      <td>112.486</td>\n",
       "      <td>0.0</td>\n",
       "      <td>6.5055</td>\n",
       "      <td>32890.0</td>\n",
       "      <td>33140.0</td>\n",
       "      <td>0.870</td>\n",
       "      <td>0.877</td>\n",
       "      <td>0.551</td>\n",
       "      <td>...</td>\n",
       "      <td>55.655</td>\n",
       "      <td>149.0</td>\n",
       "      <td>44.345</td>\n",
       "      <td>97.0</td>\n",
       "      <td>28.869</td>\n",
       "      <td>50.0</td>\n",
       "      <td>14.881</td>\n",
       "      <td>47.0</td>\n",
       "      <td>13.988</td>\n",
       "      <td>lig</td>\n",
       "    </tr>\n",
       "    <tr>\n",
       "      <th>16240</th>\n",
       "      <td>51975.48</td>\n",
       "      <td>466.0</td>\n",
       "      <td>111.535</td>\n",
       "      <td>-2.0</td>\n",
       "      <td>6.3045</td>\n",
       "      <td>61880.0</td>\n",
       "      <td>62130.0</td>\n",
       "      <td>1.191</td>\n",
       "      <td>1.195</td>\n",
       "      <td>0.593</td>\n",
       "      <td>...</td>\n",
       "      <td>57.725</td>\n",
       "      <td>197.0</td>\n",
       "      <td>42.275</td>\n",
       "      <td>126.0</td>\n",
       "      <td>27.039</td>\n",
       "      <td>66.0</td>\n",
       "      <td>14.163</td>\n",
       "      <td>60.0</td>\n",
       "      <td>12.876</td>\n",
       "      <td>lig</td>\n",
       "    </tr>\n",
       "    <tr>\n",
       "      <th>4810</th>\n",
       "      <td>28951.46</td>\n",
       "      <td>264.0</td>\n",
       "      <td>109.665</td>\n",
       "      <td>-5.5</td>\n",
       "      <td>4.8576</td>\n",
       "      <td>25440.0</td>\n",
       "      <td>25690.0</td>\n",
       "      <td>0.879</td>\n",
       "      <td>0.887</td>\n",
       "      <td>0.512</td>\n",
       "      <td>...</td>\n",
       "      <td>56.818</td>\n",
       "      <td>114.0</td>\n",
       "      <td>43.182</td>\n",
       "      <td>58.0</td>\n",
       "      <td>21.970</td>\n",
       "      <td>27.0</td>\n",
       "      <td>10.227</td>\n",
       "      <td>31.0</td>\n",
       "      <td>11.742</td>\n",
       "      <td>iso</td>\n",
       "    </tr>\n",
       "    <tr>\n",
       "      <th>5675</th>\n",
       "      <td>65700.83</td>\n",
       "      <td>567.0</td>\n",
       "      <td>115.874</td>\n",
       "      <td>-3.5</td>\n",
       "      <td>6.2070</td>\n",
       "      <td>107720.0</td>\n",
       "      <td>107970.0</td>\n",
       "      <td>1.640</td>\n",
       "      <td>1.643</td>\n",
       "      <td>0.582</td>\n",
       "      <td>...</td>\n",
       "      <td>50.441</td>\n",
       "      <td>281.0</td>\n",
       "      <td>49.559</td>\n",
       "      <td>156.0</td>\n",
       "      <td>27.513</td>\n",
       "      <td>81.0</td>\n",
       "      <td>14.286</td>\n",
       "      <td>75.0</td>\n",
       "      <td>13.228</td>\n",
       "      <td>lys</td>\n",
       "    </tr>\n",
       "  </tbody>\n",
       "</table>\n",
       "<p>6806 rows × 107 columns</p>\n",
       "</div>"
      ],
      "text/plain": [
       "          mol_w  Residue  avg_res_w  charge  Iso_e_point  Mol_ext_coef  \\\n",
       "13516  34912.05    323.0    108.087    -2.5       5.9013       12950.0   \n",
       "13954  43231.95    405.0    106.746     3.5       6.8154       27850.0   \n",
       "3585   59112.27    544.0    108.662    -9.5       5.3848       47790.0   \n",
       "6052   37895.53    359.0    105.559    -4.0       5.7957       26930.0   \n",
       "5894   19039.08    181.0    105.188    10.5       9.9430       12950.0   \n",
       "...         ...      ...        ...     ...          ...           ...   \n",
       "4122   38214.98    335.0    114.075    20.5      10.0985       79870.0   \n",
       "5796   37795.37    336.0    112.486     0.0       6.5055       32890.0   \n",
       "16240  51975.48    466.0    111.535    -2.0       6.3045       61880.0   \n",
       "4810   28951.46    264.0    109.665    -5.5       4.8576       25440.0   \n",
       "5675   65700.83    567.0    115.874    -3.5       6.2070      107720.0   \n",
       "\n",
       "       Mol_ext_coef_cys  ext_coef_mg  ext_coef_mg_cys  \\\n",
       "13516           13325.0        0.371            0.382   \n",
       "13954           28100.0        0.644            0.650   \n",
       "3585            47915.0        0.808            0.811   \n",
       "6052            27180.0        0.711            0.717   \n",
       "5894            13200.0        0.680            0.693   \n",
       "...                 ...          ...              ...   \n",
       "4122            79995.0        2.090            2.093   \n",
       "5796            33140.0        0.870            0.877   \n",
       "16240           62130.0        1.191            1.195   \n",
       "4810            25690.0        0.879            0.887   \n",
       "5675           107970.0        1.640            1.643   \n",
       "\n",
       "       Imp_express_inclu_bodies  ...  non-polar_mol  polar  polar_mol  \\\n",
       "13516                     0.732  ...         57.276  138.0     42.724   \n",
       "13954                     0.548  ...         60.247  161.0     39.753   \n",
       "3585                      0.548  ...         58.824  224.0     41.176   \n",
       "6052                      0.580  ...         62.953  133.0     37.047   \n",
       "5894                      0.895  ...         60.773   71.0     39.227   \n",
       "...                         ...  ...            ...    ...        ...   \n",
       "4122                      0.809  ...         59.104  137.0     40.896   \n",
       "5796                      0.551  ...         55.655  149.0     44.345   \n",
       "16240                     0.593  ...         57.725  197.0     42.275   \n",
       "4810                      0.512  ...         56.818  114.0     43.182   \n",
       "5675                      0.582  ...         50.441  281.0     49.559   \n",
       "\n",
       "       charged  charged_mol  basic  basic_mol  acidic  acidic_mol  label  \n",
       "13516     73.0       22.601   37.0     11.455    36.0      11.146    Oxi  \n",
       "13954    103.0       25.432   58.0     14.321    45.0      11.111    lys  \n",
       "3585     140.0       25.735   69.0     12.684    71.0      13.051    lig  \n",
       "6052      85.0       23.677   43.0     11.978    42.0      11.699    lys  \n",
       "5894      40.0       22.099   26.0     14.365    14.0       7.735    trl  \n",
       "...        ...          ...    ...        ...     ...         ...    ...  \n",
       "4122      84.0       25.075   56.0     16.716    28.0       8.358    Oxi  \n",
       "5796      97.0       28.869   50.0     14.881    47.0      13.988    lig  \n",
       "16240    126.0       27.039   66.0     14.163    60.0      12.876    lig  \n",
       "4810      58.0       21.970   27.0     10.227    31.0      11.742    iso  \n",
       "5675     156.0       27.513   81.0     14.286    75.0      13.228    lys  \n",
       "\n",
       "[6806 rows x 107 columns]"
      ]
     },
     "execution_count": 18,
     "metadata": {},
     "output_type": "execute_result"
    }
   ],
   "source": [
    "train, test = train_test_split(data, test_size=0.10)   # creating a train-test split"
   ]
  },
  {
   "cell_type": "code",
   "execution_count": 9,
   "metadata": {},
   "outputs": [],
   "source": [
    "class_names = ['Oxi','trf', 'hyd', 'lys', 'iso', 'lig', 'trl']"
   ]
  },
  {
   "cell_type": "code",
   "execution_count": 76,
   "metadata": {},
   "outputs": [],
   "source": [
    "x = data.loc[:,selected_features]\n",
    "y = data.loc[:,[\"label\"]]\n",
    "y = pd.get_dummies(y)\n",
    "x_np = x.to_numpy() # the features (88 features)\n",
    "y_np = y.to_numpy()  # labels"
   ]
  },
  {
   "cell_type": "markdown",
   "metadata": {},
   "source": [
    "### 2. Normalize the features (mean-normalization) "
   ]
  },
  {
   "cell_type": "code",
   "execution_count": 77,
   "metadata": {},
   "outputs": [
    {
     "data": {
      "text/plain": [
       "(array([[ 1.04229630e+00,  9.29312509e-03,  1.56914873e-05, ...,\n",
       "          8.16743065e-05,  1.20515393e-03,  5.38176656e-06],\n",
       "        [-3.29257857e-01, -3.13781414e-03,  8.56045001e-05, ...,\n",
       "          3.81954068e-05, -3.96468264e-04,  2.09555443e-07],\n",
       "        [ 1.07420077e+00,  9.55761316e-03,  1.79102484e-05, ...,\n",
       "          8.66261109e-05,  1.19046015e-03,  8.85469396e-07],\n",
       "        ...,\n",
       "        [ 4.17535666e-01,  3.29806220e-03,  8.28861506e-05, ...,\n",
       "          9.51191167e-05,  1.10229746e-03,  1.06783553e-04],\n",
       "        [ 4.18745111e-01,  3.29806220e-03,  8.47375670e-05, ...,\n",
       "          9.28709681e-05,  1.08760368e-03,  1.04535405e-04],\n",
       "        [ 1.82414625e+00,  1.61698149e-02,  2.53159143e-05, ...,\n",
       "         -2.11968584e-05,  1.45494822e-03, -3.57755157e-05]]),\n",
       " (68056, 88))"
      ]
     },
     "execution_count": 77,
     "metadata": {},
     "output_type": "execute_result"
    }
   ],
   "source": [
    "x_norm = np.zeros_like(x_np)   # make an empty array\n",
    "for i in range(x_np.shape[1]): \n",
    "    tmp_arr = x_np[:,i]    # temporary array for each col\n",
    "    mean = np.mean(tmp_arr) # mean of the col\n",
    "    tmp_arr2 = (tmp_arr - mean) / len(x_np)   # normalixed feature vector\n",
    "    x_norm[:,i] = tmp_arr2  # export\n",
    "x_norm, x_norm.shape"
   ]
  },
  {
   "cell_type": "code",
   "execution_count": 78,
   "metadata": {},
   "outputs": [],
   "source": []
  },
  {
   "cell_type": "markdown",
   "metadata": {},
   "source": []
  },
  {
   "cell_type": "code",
   "execution_count": 79,
   "metadata": {},
   "outputs": [],
   "source": [
    "model = tf.keras.Sequential([\n",
    "    tf.keras.layers.Dense(72),\n",
    "    tf.keras.layers.Dense(400, activation='relu'),\n",
    "    tf.keras.layers.Dense(200, activation='relu'),\n",
    "    tf.keras.layers.Dense(100, activation='relu'),\n",
    "    tf.keras.layers.Dense(50, activation='relu'),\n",
    "    tf.keras.layers.Dense(5,activation='softmax')\n",
    "])\n",
    "model.compile(optimizer='adam',\n",
    "              loss=tf.keras.losses.CategoricalCrossentropy(),\n",
    "              metrics=['accuracy'])\n",
    "\n",
    "model2 = tf.keras.Sequential([\n",
    "    tf.keras.layers.Dense(72),\n",
    "    tf.keras.layers.Dense(400, activation='relu'),\n",
    "    tf.keras.layers.Dense(200, activation='relu'),\n",
    "    tf.keras.layers.Dense(100, activation='relu'),\n",
    "    tf.keras.layers.Dense(50, activation='relu'),\n",
    "    tf.keras.layers.Dense(5,activation='softmax')\n",
    "])\n",
    "model.compile(optimizer='adam',\n",
    "              loss=tf.keras.losses.CategoricalCrossentropy(),\n",
    "              metrics=['accuracy'])"
   ]
  },
  {
   "cell_type": "code",
   "execution_count": 80,
   "metadata": {},
   "outputs": [
    {
     "name": "stdout",
     "output_type": "stream",
     "text": [
      "Epoch 1/50\n",
      "1702/1702 [==============================] - 17s 9ms/step - loss: 1.4185 - accuracy: 0.4061\n",
      "Epoch 2/50\n",
      "1702/1702 [==============================] - 19s 11ms/step - loss: 1.3812 - accuracy: 0.4208\n",
      "Epoch 3/50\n",
      "1702/1702 [==============================] - 13s 7ms/step - loss: 1.3201 - accuracy: 0.4548\n",
      "Epoch 4/50\n",
      "1702/1702 [==============================] - 11s 7ms/step - loss: 1.2457 - accuracy: 0.4925\n",
      "Epoch 5/50\n",
      "1702/1702 [==============================] - 13s 7ms/step - loss: 1.2180 - accuracy: 0.5047\n",
      "Epoch 6/50\n",
      "1702/1702 [==============================] - 13s 8ms/step - loss: 1.1978 - accuracy: 0.5148\n",
      "Epoch 7/50\n",
      "1702/1702 [==============================] - 16s 9ms/step - loss: 1.1809 - accuracy: 0.5205\n",
      "Epoch 8/50\n",
      "1702/1702 [==============================] - 18s 11ms/step - loss: 1.1694 - accuracy: 0.5253\n",
      "Epoch 9/50\n",
      "1702/1702 [==============================] - 17s 10ms/step - loss: 1.1574 - accuracy: 0.5303\n",
      "Epoch 10/50\n",
      "1702/1702 [==============================] - 13s 8ms/step - loss: 1.1434 - accuracy: 0.5343\n",
      "Epoch 11/50\n",
      "1702/1702 [==============================] - 13s 8ms/step - loss: 1.1302 - accuracy: 0.5390\n",
      "Epoch 12/50\n",
      "1702/1702 [==============================] - 13s 8ms/step - loss: 1.1144 - accuracy: 0.5460\n",
      "Epoch 13/50\n",
      "1702/1702 [==============================] - 14s 8ms/step - loss: 1.1004 - accuracy: 0.5513\n",
      "Epoch 14/50\n",
      "1702/1702 [==============================] - 13s 8ms/step - loss: 1.0834 - accuracy: 0.5609\n",
      "Epoch 15/50\n",
      "1702/1702 [==============================] - 13s 8ms/step - loss: 1.0673 - accuracy: 0.5676\n",
      "Epoch 16/50\n",
      "1702/1702 [==============================] - 15s 9ms/step - loss: 1.0541 - accuracy: 0.5748\n",
      "Epoch 17/50\n",
      "1702/1702 [==============================] - 15s 9ms/step - loss: 1.0399 - accuracy: 0.5800\n",
      "Epoch 18/50\n",
      "1702/1702 [==============================] - 13s 8ms/step - loss: 1.0222 - accuracy: 0.5876\n",
      "Epoch 19/50\n",
      "1702/1702 [==============================] - 12s 7ms/step - loss: 1.0118 - accuracy: 0.5931\n",
      "Epoch 20/50\n",
      "1702/1702 [==============================] - 14s 8ms/step - loss: 0.9961 - accuracy: 0.6016\n",
      "Epoch 21/50\n",
      "1702/1702 [==============================] - 13s 7ms/step - loss: 0.9824 - accuracy: 0.6055\n",
      "Epoch 22/50\n",
      "1702/1702 [==============================] - 12s 7ms/step - loss: 0.9681 - accuracy: 0.6147\n",
      "Epoch 23/50\n",
      "1702/1702 [==============================] - 14s 8ms/step - loss: 0.9601 - accuracy: 0.6154\n",
      "Epoch 24/50\n",
      "1702/1702 [==============================] - 14s 8ms/step - loss: 0.9463 - accuracy: 0.6229\n",
      "Epoch 25/50\n",
      "1702/1702 [==============================] - 15s 9ms/step - loss: 0.9340 - accuracy: 0.6283\n",
      "Epoch 26/50\n",
      "1702/1702 [==============================] - 18s 10ms/step - loss: 0.9280 - accuracy: 0.6307\n",
      "Epoch 27/50\n",
      "1702/1702 [==============================] - 13s 8ms/step - loss: 0.9182 - accuracy: 0.6345\n",
      "Epoch 28/50\n",
      "1702/1702 [==============================] - 14s 8ms/step - loss: 0.9115 - accuracy: 0.6379\n",
      "Epoch 29/50\n",
      "1702/1702 [==============================] - 15s 9ms/step - loss: 0.9045 - accuracy: 0.6419\n",
      "Epoch 30/50\n",
      "1702/1702 [==============================] - 13s 8ms/step - loss: 0.8966 - accuracy: 0.6449\n",
      "Epoch 31/50\n",
      "1702/1702 [==============================] - 14s 8ms/step - loss: 0.8902 - accuracy: 0.6468\n",
      "Epoch 32/50\n",
      "1702/1702 [==============================] - 13s 8ms/step - loss: 0.8841 - accuracy: 0.6518\n",
      "Epoch 33/50\n",
      "1702/1702 [==============================] - 14s 8ms/step - loss: 0.8765 - accuracy: 0.6541\n",
      "Epoch 34/50\n",
      "1702/1702 [==============================] - 20s 12ms/step - loss: 0.8730 - accuracy: 0.6562\n",
      "Epoch 35/50\n",
      "1702/1702 [==============================] - 16s 10ms/step - loss: 0.8629 - accuracy: 0.6601\n",
      "Epoch 36/50\n",
      "1702/1702 [==============================] - 17s 10ms/step - loss: 0.8554 - accuracy: 0.6627\n",
      "Epoch 37/50\n",
      "1702/1702 [==============================] - 17s 10ms/step - loss: 0.8562 - accuracy: 0.6627\n",
      "Epoch 38/50\n",
      "1702/1702 [==============================] - 18s 10ms/step - loss: 0.8436 - accuracy: 0.6675\n",
      "Epoch 39/50\n",
      "1702/1702 [==============================] - 19s 11ms/step - loss: 0.8376 - accuracy: 0.6710\n",
      "Epoch 40/50\n",
      "1702/1702 [==============================] - 17s 10ms/step - loss: 0.8309 - accuracy: 0.6722\n",
      "Epoch 41/50\n",
      "1702/1702 [==============================] - 18s 10ms/step - loss: 0.8294 - accuracy: 0.6737\n",
      "Epoch 42/50\n",
      "1702/1702 [==============================] - 18s 10ms/step - loss: 0.8239 - accuracy: 0.6753\n",
      "Epoch 43/50\n",
      "1702/1702 [==============================] - 17s 10ms/step - loss: 0.8173 - accuracy: 0.6790\n",
      "Epoch 44/50\n",
      "1702/1702 [==============================] - 22s 13ms/step - loss: 0.8163 - accuracy: 0.6805\n",
      "Epoch 45/50\n",
      "1702/1702 [==============================] - 20s 12ms/step - loss: 0.8074 - accuracy: 0.6846\n",
      "Epoch 46/50\n",
      "1702/1702 [==============================] - 18s 11ms/step - loss: 0.8028 - accuracy: 0.6855\n",
      "Epoch 47/50\n",
      "1702/1702 [==============================] - 18s 10ms/step - loss: 0.7984 - accuracy: 0.6869\n",
      "Epoch 48/50\n",
      "1702/1702 [==============================] - 18s 10ms/step - loss: 0.8005 - accuracy: 0.6870\n",
      "Epoch 49/50\n",
      "1702/1702 [==============================] - 17s 10ms/step - loss: 0.7935 - accuracy: 0.6894\n",
      "Epoch 50/50\n",
      "1702/1702 [==============================] - 18s 11ms/step - loss: 0.7869 - accuracy: 0.6913\n"
     ]
    },
    {
     "data": {
      "text/plain": [
       "<keras.callbacks.History at 0x20780816310>"
      ]
     },
     "execution_count": 80,
     "metadata": {},
     "output_type": "execute_result"
    }
   ],
   "source": [
    "model.fit(X_train,y_train,epochs=50)"
   ]
  },
  {
   "cell_type": "code",
   "execution_count": 69,
   "metadata": {},
   "outputs": [
    {
     "name": "stdout",
     "output_type": "stream",
     "text": [
      "1015/1015 - 5s - loss: 1.2288 - accuracy: 0.5346 - 5s/epoch - 5ms/step\n",
      "\n",
      "Test accuracy: 0.5345757007598877\n"
     ]
    }
   ],
   "source": [
    "test_loss, test_acc = model.evaluate(X_test,  y_test, verbose=2)\n",
    "\n",
    "print('\\nTest accuracy:', test_acc)"
   ]
  },
  {
   "cell_type": "code",
   "execution_count": 96,
   "metadata": {},
   "outputs": [],
   "source": [
    "final_result_class = []\n",
    "precision_values = []\n",
    "recall_values = []\n",
    "f1_values = []\n",
    "accuracy_values = []\n",
    "\n",
    "for name in class_names:\n",
    "  temp_df = test_df[test_df['label'] == name]\n",
    "  X_test = list(temp_df['Fragment'])\n",
    "  Y_test = le.transform(temp_df['Classes'])\n",
    "  final_result_class.append(name)\n",
    "\n",
    "  predictions = model.predict(X)\n",
    "  Y_pred =[]\n",
    "  for k in range(len(predictions)):\n",
    "    temp_pred = predictions[k]\n",
    "    max_value = max(temp_pred)\n",
    "    result = np.where(temp_pred == max_value)[0][0]\n",
    "    Y_pred.append(result)\n",
    "  print(Y_test)\n",
    "  print(Y_pred)\n",
    "  precision_values.append(precision_score(Y_test, Y_pred, average = 'macro'))\n",
    "  recall_values.append(recall_score(Y_test, Y_pred, average = 'macro'))\n",
    "  f1_values.append(f1_score(Y_test, Y_pred, average = 'macro'))\n",
    "  accuracy_values.append(accuracy_score(Y_test, Y_pred))\n",
    "  #print(X_test)\n",
    "results_df = pd.DataFrame()\n",
    "results_df['Class Name'] = final_result_class\n",
    "results_df['Precision'] = precision_values\n",
    "results_df['Recall'] = recall_values\n",
    "results_df['F1 Score'] = f1_values\n",
    "results_df['Accuracy'] = accuracy_values\n",
    "results_df.to_excel(r'C:\\Users\\Swata\\OneDrive\\Documents\\DATARESULTS_FINAL.xlsx')"
   ]
  },
  {
   "cell_type": "code",
   "execution_count": 12,
   "metadata": {},
   "outputs": [
    {
     "data": {
      "text/plain": [
       "<function sklearn.metrics._classification.precision_score(y_true, y_pred, *, labels=None, pos_label=1, average='binary', sample_weight=None, zero_division='warn')>"
      ]
     },
     "execution_count": 12,
     "metadata": {},
     "output_type": "execute_result"
    }
   ],
   "source": []
  },
  {
   "cell_type": "code",
   "execution_count": 70,
   "metadata": {},
   "outputs": [
    {
     "ename": "NameError",
     "evalue": "name 'predicted' is not defined",
     "output_type": "error",
     "traceback": [
      "\u001b[1;31m---------------------------------------------------------------------------\u001b[0m",
      "\u001b[1;31mNameError\u001b[0m                                 Traceback (most recent call last)",
      "\u001b[1;32mc:\\Users\\Swata\\OneDrive\\Documents\\Python_Scripts\\Enzyme_classification_swat.ipynb Cell 36'\u001b[0m in \u001b[0;36m<cell line: 3>\u001b[1;34m()\u001b[0m\n\u001b[0;32m      <a href='vscode-notebook-cell:/c%3A/Users/Swata/OneDrive/Documents/Python_Scripts/Enzyme_classification_swat.ipynb#ch0000031?line=0'>1</a>\u001b[0m \u001b[39m#Recall\u001b[39;00m\n\u001b[0;32m      <a href='vscode-notebook-cell:/c%3A/Users/Swata/OneDrive/Documents/Python_Scripts/Enzyme_classification_swat.ipynb#ch0000031?line=1'>2</a>\u001b[0m m \u001b[39m=\u001b[39m tf\u001b[39m.\u001b[39mkeras\u001b[39m.\u001b[39mmetrics\u001b[39m.\u001b[39mRecall()\n\u001b[1;32m----> <a href='vscode-notebook-cell:/c%3A/Users/Swata/OneDrive/Documents/Python_Scripts/Enzyme_classification_swat.ipynb#ch0000031?line=2'>3</a>\u001b[0m m\u001b[39m.\u001b[39mupdate_state(y_test,predicted)\n\u001b[0;32m      <a href='vscode-notebook-cell:/c%3A/Users/Swata/OneDrive/Documents/Python_Scripts/Enzyme_classification_swat.ipynb#ch0000031?line=3'>4</a>\u001b[0m m\u001b[39m.\u001b[39mresult()\u001b[39m.\u001b[39mnumpy()\n",
      "\u001b[1;31mNameError\u001b[0m: name 'predicted' is not defined"
     ]
    }
   ],
   "source": [
    "#Recall\n",
    "m = tf.keras.metrics.Recall()\n",
    "m.update_state(y_test,predicted)\n",
    "m.result().numpy()"
   ]
  },
  {
   "cell_type": "code",
   "execution_count": null,
   "metadata": {},
   "outputs": [],
   "source": [
    "#test:0.6979870796203613 train:accuracy: 0.7338   Recall: 0.63106084 Precision 0.7637592"
   ]
  }
 ],
 "metadata": {
  "interpreter": {
   "hash": "6c836c1a78a94e37ce508f376b0acd5829cd20952c149aa2f4a3efae02c3b624"
  },
  "kernelspec": {
   "display_name": "Python 3.9.12 ('base')",
   "language": "python",
   "name": "python3"
  },
  "language_info": {
   "codemirror_mode": {
    "name": "ipython",
    "version": 3
   },
   "file_extension": ".py",
   "mimetype": "text/x-python",
   "name": "python",
   "nbconvert_exporter": "python",
   "pygments_lexer": "ipython3",
   "version": "3.9.12"
  },
  "orig_nbformat": 4
 },
 "nbformat": 4,
 "nbformat_minor": 2
}
