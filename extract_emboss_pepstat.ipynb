{
 "cells": [
  {
   "cell_type": "code",
   "execution_count": 99,
   "metadata": {},
   "outputs": [],
   "source": [
    "import pandas as pd\n",
    "import numpy as np\n",
    "import re"
   ]
  },
  {
   "cell_type": "code",
   "execution_count": 82,
   "metadata": {},
   "outputs": [],
   "source": [
    "filename = r\"C:\\Users\\Swata\\Downloads\\out.txt\"\n",
    "with open(filename, 'r') as f:\n",
    "    data = f.read()"
   ]
  },
  {
   "cell_type": "code",
   "execution_count": 97,
   "metadata": {},
   "outputs": [],
   "source": [
    "Data = data.split(\"PEPSTAT\")\n",
    "Data = Data[1:]\n",
    "#print(Data[1:5])"
   ]
  },
  {
   "cell_type": "code",
   "execution_count": 98,
   "metadata": {},
   "outputs": [],
   "source": [
    "Lines = {i:[] for i in range(49)}\n",
    "\n",
    "for protein in Data:\n",
    "    prot = protein.split('\\n')\n",
    "    for line_num in range(len(prot)):\n",
    "        words = re.split('\\t| ',prot[line_num])\n",
    "        for word in words:   \n",
    "            try:\n",
    "                Lines[line_num].append(float(word))\n",
    "            except:\n",
    "                pass\n",
    "\n",
    "#print(Lines)"
   ]
  },
  {
   "cell_type": "code",
   "execution_count": 106,
   "metadata": {},
   "outputs": [
    {
     "data": {
      "text/plain": [
       "array([43677.45, 42465.02, 41684.87, 42408.8 , 43513.56, 42431.89,\n",
       "       45514.87, 40642.88, 43588.76, 35011.59, 42068.4 , 41893.23,\n",
       "       45101.67, 65712.37, 64802.09, 64802.09, 87089.52, 65278.31,\n",
       "       49508.98, 60257.68, 60257.68, 49508.98, 39580.29, 25863.  ,\n",
       "       15037.33, 39580.29, 41774.11, 16681.41, 41061.59, 54413.69,\n",
       "       55688.87, 20952.91, 12209.61, 39844.18, 13696.72, 24803.09,\n",
       "       48172.77, 19213.04, 39714.68, 13696.72, 41056.13])"
      ]
     },
     "execution_count": 106,
     "metadata": {},
     "output_type": "execute_result"
    }
   ],
   "source": [
    "molecular_weight = np.array(Lines[2]).reshape([-1,2])[:,0]\n",
    "res = np.array(Lines[2]).reshape([-1,2])[:,1]\n",
    "avg_res_w = np.array(Lines[3]).reshape([-1,2])[:,0]\n",
    "charge = np.array(Lines[3]).reshape([-1,2])[:,1]"
   ]
  },
  {
   "cell_type": "code",
   "execution_count": 108,
   "metadata": {},
   "outputs": [
    {
     "data": {
      "text/plain": [
       "78"
      ]
     },
     "execution_count": 108,
     "metadata": {},
     "output_type": "execute_result"
    }
   ],
   "source": []
  },
  {
   "cell_type": "code",
   "execution_count": 32,
   "metadata": {},
   "outputs": [],
   "source": [
    "import re\n",
    "dat = Data[1].split('\\n')\n",
    "for line in dat:\n",
    "    tmp = re.split('\\t| ',line)\n",
    "    for word in tmp:\n",
    "        try:\n",
    "            Lines[line].append(float(word))\n",
    "        except:\n",
    "            pass"
   ]
  },
  {
   "cell_type": "code",
   "execution_count": 42,
   "metadata": {},
   "outputs": [],
   "source": [
    "line = re.split('\\t| ',dat[5])\n",
    "d = []\n",
    "for word in tmp:\n",
    "        try:\n",
    "            d.append(float(word))\n",
    "        except:\n",
    "            pass\n",
    "# import re\n",
    "# txt = a[2]\n",
    "# txt_sp = re.split('\\t| ',txt)\n",
    "# txt_sp"
   ]
  },
  {
   "cell_type": "code",
   "execution_count": 55,
   "metadata": {},
   "outputs": [
    {
     "name": "stdout",
     "output_type": "stream",
     "text": [
      "{1: [39310.0, 39560.0], 2: []}\n"
     ]
    }
   ],
   "source": [
    "d = {1:[],2:[]}\n",
    "line = re.split('\\t| ',dat[5])\n",
    "line\n",
    "for i in line:\n",
    "    try:\n",
    "        d[1].append(float(i))\n",
    "    except:\n",
    "        pass\n",
    "print(d)"
   ]
  },
  {
   "cell_type": "code",
   "execution_count": 1,
   "metadata": {},
   "outputs": [
    {
     "ename": "NameError",
     "evalue": "name 'dat' is not defined",
     "output_type": "error",
     "traceback": [
      "\u001b[1;31m---------------------------------------------------------------------------\u001b[0m",
      "\u001b[1;31mNameError\u001b[0m                                 Traceback (most recent call last)",
      "\u001b[1;32mc:\\Users\\Swata\\OneDrive\\Documents\\Scripts\\Python_Scripts\\extract_emboss_pepstat.ipynb Cell 10'\u001b[0m in \u001b[0;36m<cell line: 1>\u001b[1;34m()\u001b[0m\n\u001b[1;32m----> <a href='vscode-notebook-cell:/c%3A/Users/Swata/OneDrive/Documents/Scripts/Python_Scripts/extract_emboss_pepstat.ipynb#ch0000009?line=0'>1</a>\u001b[0m x \u001b[39m=\u001b[39m \u001b[39menumerate\u001b[39m(dat)\n\u001b[0;32m      <a href='vscode-notebook-cell:/c%3A/Users/Swata/OneDrive/Documents/Scripts/Python_Scripts/extract_emboss_pepstat.ipynb#ch0000009?line=1'>2</a>\u001b[0m \u001b[39mfor\u001b[39;00m something,number \u001b[39min\u001b[39;00m \u001b[39menumerate\u001b[39m(dat):\n\u001b[0;32m      <a href='vscode-notebook-cell:/c%3A/Users/Swata/OneDrive/Documents/Scripts/Python_Scripts/extract_emboss_pepstat.ipynb#ch0000009?line=2'>3</a>\u001b[0m     \u001b[39mprint\u001b[39m(something,)\n",
      "\u001b[1;31mNameError\u001b[0m: name 'dat' is not defined"
     ]
    }
   ],
   "source": [
    "x = enumerate(dat)\n",
    "for something,number in enumerate(dat):\n",
    "    print(something,)\n",
    "    print(number)"
   ]
  },
  {
   "cell_type": "code",
   "execution_count": 38,
   "metadata": {},
   "outputs": [
    {
     "data": {
      "text/plain": [
       "[43677.45, 394.0]"
      ]
     },
     "execution_count": 38,
     "metadata": {},
     "output_type": "execute_result"
    }
   ],
   "source": [
    "line = a[2]\n",
    "mol_w = []\n",
    "if 'Molecular weight' in a[2]:\n",
    "        tmp = re.split('\\t| ',line)\n",
    "        for word in tmp:\n",
    "            try:\n",
    "                mol_w.append(float(word))\n",
    "            except:\n",
    "                pass\n",
    "            \n",
    "                \n",
    "mol_w"
   ]
  },
  {
   "cell_type": "code",
   "execution_count": 27,
   "metadata": {},
   "outputs": [
    {
     "name": "stdout",
     "output_type": "stream",
     "text": [
      "394\n"
     ]
    }
   ],
   "source": [
    "for ward in tmp:\n",
    "    if ward.isnumeric():\n",
    "        print(ward)"
   ]
  },
  {
   "cell_type": "code",
   "execution_count": 14,
   "metadata": {},
   "outputs": [
    {
     "data": {
      "text/plain": [
       "dict_values([[], [], [], [], [], [], [], [], [], [], [], [], [], [], [], [], [], [], [], [], [], [], [], [], [], [], [], [], [], [], [], [], [], [], [], [], [], [], [], [], [], [], [], [], [], [], [], [], []])"
      ]
     },
     "execution_count": 14,
     "metadata": {},
     "output_type": "execute_result"
    }
   ],
   "source": [
    "Lines = {'line'+str(i):[] for i in range(49)}\n",
    "Lines.values()"
   ]
  },
  {
   "cell_type": "code",
   "execution_count": null,
   "metadata": {},
   "outputs": [],
   "source": []
  }
 ],
 "metadata": {
  "interpreter": {
   "hash": "b31622cea9f62dcc25810e311d273a3a63d78d0be236c36ebef03fa5d98da372"
  },
  "kernelspec": {
   "display_name": "Python 3 (ipykernel)",
   "language": "python",
   "name": "python3"
  },
  "language_info": {
   "codemirror_mode": {
    "name": "ipython",
    "version": 3
   },
   "file_extension": ".py",
   "mimetype": "text/x-python",
   "name": "python",
   "nbconvert_exporter": "python",
   "pygments_lexer": "ipython3",
   "version": "3.9.12"
  }
 },
 "nbformat": 4,
 "nbformat_minor": 4
}
